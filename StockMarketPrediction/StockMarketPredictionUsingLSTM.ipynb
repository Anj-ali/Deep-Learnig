{
  "nbformat": 4,
  "nbformat_minor": 0,
  "metadata": {
    "colab": {
      "name": "StockMarketPredictionAndForecasting.ipynb",
      "provenance": [],
      "collapsed_sections": []
    },
    "kernelspec": {
      "name": "python3",
      "display_name": "Python 3"
    }
  },
  "cells": [
    {
      "cell_type": "markdown",
      "metadata": {
        "id": "T0Hwzr7H_7nR",
        "colab_type": "text"
      },
      "source": [
        "**Stock Market Prediction and Forecating using Stacked LSTM**"
      ]
    },
    {
      "cell_type": "code",
      "metadata": {
        "id": "kKGETDAoAH09",
        "colab_type": "code",
        "colab": {
          "base_uri": "https://localhost:8080/",
          "height": 70
        },
        "outputId": "0f045348-a3a4-4e7d-ecf7-cbb616fa37d4"
      },
      "source": [
        "import pandas_datareader as pdr"
      ],
      "execution_count": 1,
      "outputs": [
        {
          "output_type": "stream",
          "text": [
            "/usr/local/lib/python3.6/dist-packages/pandas_datareader/compat/__init__.py:7: FutureWarning: pandas.util.testing is deprecated. Use the functions in the public API at pandas.testing instead.\n",
            "  from pandas.util.testing import assert_frame_equal\n"
          ],
          "name": "stderr"
        }
      ]
    },
    {
      "cell_type": "code",
      "metadata": {
        "id": "h5NaizwYAT7W",
        "colab_type": "code",
        "colab": {}
      },
      "source": [
        "key = ''\n",
        "df = pdr.get_data_tiingo('AAPL', api_key = key)"
      ],
      "execution_count": 2,
      "outputs": []
    },
    {
      "cell_type": "code",
      "metadata": {
        "id": "whIyqG-5AkrL",
        "colab_type": "code",
        "colab": {}
      },
      "source": [
        "df.to_csv('AAPL.csv')"
      ],
      "execution_count": 3,
      "outputs": []
    },
    {
      "cell_type": "code",
      "metadata": {
        "id": "6njWzOPYAr8j",
        "colab_type": "code",
        "colab": {}
      },
      "source": [
        "import pandas as pd"
      ],
      "execution_count": 4,
      "outputs": []
    },
    {
      "cell_type": "code",
      "metadata": {
        "id": "g3olU76YAvpA",
        "colab_type": "code",
        "colab": {
          "base_uri": "https://localhost:8080/",
          "height": 299
        },
        "outputId": "884d6114-97cb-48ad-dee8-4d995d3ce3ca"
      },
      "source": [
        "df = pd.read_csv('AAPL.csv')\n",
        "df.head()"
      ],
      "execution_count": 7,
      "outputs": [
        {
          "output_type": "execute_result",
          "data": {
            "text/html": [
              "<div>\n",
              "<style scoped>\n",
              "    .dataframe tbody tr th:only-of-type {\n",
              "        vertical-align: middle;\n",
              "    }\n",
              "\n",
              "    .dataframe tbody tr th {\n",
              "        vertical-align: top;\n",
              "    }\n",
              "\n",
              "    .dataframe thead th {\n",
              "        text-align: right;\n",
              "    }\n",
              "</style>\n",
              "<table border=\"1\" class=\"dataframe\">\n",
              "  <thead>\n",
              "    <tr style=\"text-align: right;\">\n",
              "      <th></th>\n",
              "      <th>symbol</th>\n",
              "      <th>date</th>\n",
              "      <th>close</th>\n",
              "      <th>high</th>\n",
              "      <th>low</th>\n",
              "      <th>open</th>\n",
              "      <th>volume</th>\n",
              "      <th>adjClose</th>\n",
              "      <th>adjHigh</th>\n",
              "      <th>adjLow</th>\n",
              "      <th>adjOpen</th>\n",
              "      <th>adjVolume</th>\n",
              "      <th>divCash</th>\n",
              "      <th>splitFactor</th>\n",
              "    </tr>\n",
              "  </thead>\n",
              "  <tbody>\n",
              "    <tr>\n",
              "      <th>0</th>\n",
              "      <td>AAPL</td>\n",
              "      <td>2015-07-13 00:00:00+00:00</td>\n",
              "      <td>125.66</td>\n",
              "      <td>125.755</td>\n",
              "      <td>124.32</td>\n",
              "      <td>125.03</td>\n",
              "      <td>41440538</td>\n",
              "      <td>115.798631</td>\n",
              "      <td>115.886175</td>\n",
              "      <td>114.563789</td>\n",
              "      <td>115.218071</td>\n",
              "      <td>41440538</td>\n",
              "      <td>0.0</td>\n",
              "      <td>1.0</td>\n",
              "    </tr>\n",
              "    <tr>\n",
              "      <th>1</th>\n",
              "      <td>AAPL</td>\n",
              "      <td>2015-07-14 00:00:00+00:00</td>\n",
              "      <td>125.61</td>\n",
              "      <td>126.370</td>\n",
              "      <td>125.04</td>\n",
              "      <td>126.04</td>\n",
              "      <td>31768139</td>\n",
              "      <td>115.752554</td>\n",
              "      <td>116.452912</td>\n",
              "      <td>115.227286</td>\n",
              "      <td>116.148810</td>\n",
              "      <td>31768139</td>\n",
              "      <td>0.0</td>\n",
              "      <td>1.0</td>\n",
              "    </tr>\n",
              "    <tr>\n",
              "      <th>2</th>\n",
              "      <td>AAPL</td>\n",
              "      <td>2015-07-15 00:00:00+00:00</td>\n",
              "      <td>126.82</td>\n",
              "      <td>127.150</td>\n",
              "      <td>125.58</td>\n",
              "      <td>125.72</td>\n",
              "      <td>33649200</td>\n",
              "      <td>116.867598</td>\n",
              "      <td>117.171700</td>\n",
              "      <td>115.724909</td>\n",
              "      <td>115.853922</td>\n",
              "      <td>33649200</td>\n",
              "      <td>0.0</td>\n",
              "      <td>1.0</td>\n",
              "    </tr>\n",
              "    <tr>\n",
              "      <th>3</th>\n",
              "      <td>AAPL</td>\n",
              "      <td>2015-07-16 00:00:00+00:00</td>\n",
              "      <td>128.51</td>\n",
              "      <td>128.570</td>\n",
              "      <td>127.35</td>\n",
              "      <td>127.74</td>\n",
              "      <td>36222447</td>\n",
              "      <td>118.424972</td>\n",
              "      <td>118.480264</td>\n",
              "      <td>117.356005</td>\n",
              "      <td>117.715399</td>\n",
              "      <td>36222447</td>\n",
              "      <td>0.0</td>\n",
              "      <td>1.0</td>\n",
              "    </tr>\n",
              "    <tr>\n",
              "      <th>4</th>\n",
              "      <td>AAPL</td>\n",
              "      <td>2015-07-17 00:00:00+00:00</td>\n",
              "      <td>129.62</td>\n",
              "      <td>129.620</td>\n",
              "      <td>128.31</td>\n",
              "      <td>129.08</td>\n",
              "      <td>46164710</td>\n",
              "      <td>119.447863</td>\n",
              "      <td>119.447863</td>\n",
              "      <td>118.240668</td>\n",
              "      <td>118.950241</td>\n",
              "      <td>46164710</td>\n",
              "      <td>0.0</td>\n",
              "      <td>1.0</td>\n",
              "    </tr>\n",
              "  </tbody>\n",
              "</table>\n",
              "</div>"
            ],
            "text/plain": [
              "  symbol                       date   close  ...  adjVolume  divCash  splitFactor\n",
              "0   AAPL  2015-07-13 00:00:00+00:00  125.66  ...   41440538      0.0          1.0\n",
              "1   AAPL  2015-07-14 00:00:00+00:00  125.61  ...   31768139      0.0          1.0\n",
              "2   AAPL  2015-07-15 00:00:00+00:00  126.82  ...   33649200      0.0          1.0\n",
              "3   AAPL  2015-07-16 00:00:00+00:00  128.51  ...   36222447      0.0          1.0\n",
              "4   AAPL  2015-07-17 00:00:00+00:00  129.62  ...   46164710      0.0          1.0\n",
              "\n",
              "[5 rows x 14 columns]"
            ]
          },
          "metadata": {
            "tags": []
          },
          "execution_count": 7
        }
      ]
    },
    {
      "cell_type": "code",
      "metadata": {
        "id": "Y9azq1b_Bbwc",
        "colab_type": "code",
        "colab": {
          "base_uri": "https://localhost:8080/",
          "height": 299
        },
        "outputId": "b2650842-c81a-43c8-9634-c268ea1d8dcd"
      },
      "source": [
        "df.tail()"
      ],
      "execution_count": 9,
      "outputs": [
        {
          "output_type": "execute_result",
          "data": {
            "text/html": [
              "<div>\n",
              "<style scoped>\n",
              "    .dataframe tbody tr th:only-of-type {\n",
              "        vertical-align: middle;\n",
              "    }\n",
              "\n",
              "    .dataframe tbody tr th {\n",
              "        vertical-align: top;\n",
              "    }\n",
              "\n",
              "    .dataframe thead th {\n",
              "        text-align: right;\n",
              "    }\n",
              "</style>\n",
              "<table border=\"1\" class=\"dataframe\">\n",
              "  <thead>\n",
              "    <tr style=\"text-align: right;\">\n",
              "      <th></th>\n",
              "      <th>symbol</th>\n",
              "      <th>date</th>\n",
              "      <th>close</th>\n",
              "      <th>high</th>\n",
              "      <th>low</th>\n",
              "      <th>open</th>\n",
              "      <th>volume</th>\n",
              "      <th>adjClose</th>\n",
              "      <th>adjHigh</th>\n",
              "      <th>adjLow</th>\n",
              "      <th>adjOpen</th>\n",
              "      <th>adjVolume</th>\n",
              "      <th>divCash</th>\n",
              "      <th>splitFactor</th>\n",
              "    </tr>\n",
              "  </thead>\n",
              "  <tbody>\n",
              "    <tr>\n",
              "      <th>1253</th>\n",
              "      <td>AAPL</td>\n",
              "      <td>2020-07-02 00:00:00+00:00</td>\n",
              "      <td>364.11</td>\n",
              "      <td>370.47</td>\n",
              "      <td>363.64</td>\n",
              "      <td>367.85</td>\n",
              "      <td>28814500</td>\n",
              "      <td>364.11</td>\n",
              "      <td>370.47</td>\n",
              "      <td>363.64</td>\n",
              "      <td>367.85</td>\n",
              "      <td>28814500</td>\n",
              "      <td>0.0</td>\n",
              "      <td>1.0</td>\n",
              "    </tr>\n",
              "    <tr>\n",
              "      <th>1254</th>\n",
              "      <td>AAPL</td>\n",
              "      <td>2020-07-06 00:00:00+00:00</td>\n",
              "      <td>373.85</td>\n",
              "      <td>375.78</td>\n",
              "      <td>369.87</td>\n",
              "      <td>370.00</td>\n",
              "      <td>29745900</td>\n",
              "      <td>373.85</td>\n",
              "      <td>375.78</td>\n",
              "      <td>369.87</td>\n",
              "      <td>370.00</td>\n",
              "      <td>29745900</td>\n",
              "      <td>0.0</td>\n",
              "      <td>1.0</td>\n",
              "    </tr>\n",
              "    <tr>\n",
              "      <th>1255</th>\n",
              "      <td>AAPL</td>\n",
              "      <td>2020-07-07 00:00:00+00:00</td>\n",
              "      <td>372.69</td>\n",
              "      <td>378.62</td>\n",
              "      <td>372.23</td>\n",
              "      <td>375.41</td>\n",
              "      <td>28207000</td>\n",
              "      <td>372.69</td>\n",
              "      <td>378.62</td>\n",
              "      <td>372.23</td>\n",
              "      <td>375.41</td>\n",
              "      <td>28207000</td>\n",
              "      <td>0.0</td>\n",
              "      <td>1.0</td>\n",
              "    </tr>\n",
              "    <tr>\n",
              "      <th>1256</th>\n",
              "      <td>AAPL</td>\n",
              "      <td>2020-07-08 00:00:00+00:00</td>\n",
              "      <td>381.37</td>\n",
              "      <td>381.50</td>\n",
              "      <td>376.36</td>\n",
              "      <td>376.72</td>\n",
              "      <td>29274500</td>\n",
              "      <td>381.37</td>\n",
              "      <td>381.50</td>\n",
              "      <td>376.36</td>\n",
              "      <td>376.72</td>\n",
              "      <td>29274500</td>\n",
              "      <td>0.0</td>\n",
              "      <td>1.0</td>\n",
              "    </tr>\n",
              "    <tr>\n",
              "      <th>1257</th>\n",
              "      <td>AAPL</td>\n",
              "      <td>2020-07-09 00:00:00+00:00</td>\n",
              "      <td>382.73</td>\n",
              "      <td>393.91</td>\n",
              "      <td>378.69</td>\n",
              "      <td>385.05</td>\n",
              "      <td>31420400</td>\n",
              "      <td>382.73</td>\n",
              "      <td>393.91</td>\n",
              "      <td>378.69</td>\n",
              "      <td>385.05</td>\n",
              "      <td>31420400</td>\n",
              "      <td>0.0</td>\n",
              "      <td>1.0</td>\n",
              "    </tr>\n",
              "  </tbody>\n",
              "</table>\n",
              "</div>"
            ],
            "text/plain": [
              "     symbol                       date   close  ...  adjVolume  divCash  splitFactor\n",
              "1253   AAPL  2020-07-02 00:00:00+00:00  364.11  ...   28814500      0.0          1.0\n",
              "1254   AAPL  2020-07-06 00:00:00+00:00  373.85  ...   29745900      0.0          1.0\n",
              "1255   AAPL  2020-07-07 00:00:00+00:00  372.69  ...   28207000      0.0          1.0\n",
              "1256   AAPL  2020-07-08 00:00:00+00:00  381.37  ...   29274500      0.0          1.0\n",
              "1257   AAPL  2020-07-09 00:00:00+00:00  382.73  ...   31420400      0.0          1.0\n",
              "\n",
              "[5 rows x 14 columns]"
            ]
          },
          "metadata": {
            "tags": []
          },
          "execution_count": 9
        }
      ]
    },
    {
      "cell_type": "code",
      "metadata": {
        "id": "wUDVPXhHA04U",
        "colab_type": "code",
        "colab": {}
      },
      "source": [
        "df1 = df.reset_index()['close']"
      ],
      "execution_count": 10,
      "outputs": []
    },
    {
      "cell_type": "code",
      "metadata": {
        "id": "S0mhTIgFA-Ry",
        "colab_type": "code",
        "colab": {
          "base_uri": "https://localhost:8080/",
          "height": 34
        },
        "outputId": "dbbeaddf-c25b-4ce4-c41f-3a86dc1c2778"
      },
      "source": [
        "df1.shape"
      ],
      "execution_count": 12,
      "outputs": [
        {
          "output_type": "execute_result",
          "data": {
            "text/plain": [
              "(1258,)"
            ]
          },
          "metadata": {
            "tags": []
          },
          "execution_count": 12
        }
      ]
    },
    {
      "cell_type": "code",
      "metadata": {
        "id": "O0n0jCTJCCK_",
        "colab_type": "code",
        "colab": {
          "base_uri": "https://localhost:8080/",
          "height": 265
        },
        "outputId": "616e8ed6-6d9d-4be8-ac20-a4357c1bf9f0"
      },
      "source": [
        "import matplotlib.pyplot as plt\n",
        "plt.plot(df1)\n",
        "plt.show()"
      ],
      "execution_count": 14,
      "outputs": [
        {
          "output_type": "display_data",
          "data": {
            "image/png": "[encoded data removed]",
            "text/plain": [
              "<Figure size 432x288 with 1 Axes>"
            ]
          },
          "metadata": {
            "tags": [],
            "needs_background": "light"
          }
        }
      ]
    },
    {
      "cell_type": "code",
      "metadata": {
        "id": "Z3lyNKilCN4X",
        "colab_type": "code",
        "colab": {
          "base_uri": "https://localhost:8080/",
          "height": 218
        },
        "outputId": "1f9d9878-e731-473d-e3b2-79ba00b7e5f4"
      },
      "source": [
        "df1"
      ],
      "execution_count": 15,
      "outputs": [
        {
          "output_type": "execute_result",
          "data": {
            "text/plain": [
              "0       125.66\n",
              "1       125.61\n",
              "2       126.82\n",
              "3       128.51\n",
              "4       129.62\n",
              "         ...  \n",
              "1253    364.11\n",
              "1254    373.85\n",
              "1255    372.69\n",
              "1256    381.37\n",
              "1257    382.73\n",
              "Name: close, Length: 1258, dtype: float64"
            ]
          },
          "metadata": {
            "tags": []
          },
          "execution_count": 15
        }
      ]
    },
    {
      "cell_type": "code",
      "metadata": {
        "id": "duSLJp75ClQ8",
        "colab_type": "code",
        "colab": {}
      },
      "source": [
        "#rescaling as LSTM is sensitive to the scale of data\n",
        "import numpy as np\n",
        "from sklearn.preprocessing import MinMaxScaler\n",
        "scaler = MinMaxScaler(feature_range=(0,1))\n",
        "df1 = scaler.fit_transform(np.array(df1).reshape(-1,1))"
      ],
      "execution_count": 17,
      "outputs": []
    },
    {
      "cell_type": "code",
      "metadata": {
        "id": "ZrSEbciAERLH",
        "colab_type": "code",
        "colab": {
          "base_uri": "https://localhost:8080/",
          "height": 134
        },
        "outputId": "b9591153-fe4d-4fd5-8720-2dc59b09beda"
      },
      "source": [
        "df1"
      ],
      "execution_count": 20,
      "outputs": [
        {
          "output_type": "execute_result",
          "data": {
            "text/plain": [
              "array([[0.12079756],\n",
              "       [0.12062656],\n",
              "       [0.12476487],\n",
              "       ...,\n",
              "       [0.9656623 ],\n",
              "       [0.99534868],\n",
              "       [1.        ]])"
            ]
          },
          "metadata": {
            "tags": []
          },
          "execution_count": 20
        }
      ]
    },
    {
      "cell_type": "code",
      "metadata": {
        "id": "THOoT4B1DP8O",
        "colab_type": "code",
        "colab": {
          "base_uri": "https://localhost:8080/",
          "height": 34
        },
        "outputId": "42cce3f4-b8a5-4abc-b627-6b12f4e10181"
      },
      "source": [
        "df1.shape"
      ],
      "execution_count": 21,
      "outputs": [
        {
          "output_type": "execute_result",
          "data": {
            "text/plain": [
              "(1258, 1)"
            ]
          },
          "metadata": {
            "tags": []
          },
          "execution_count": 21
        }
      ]
    },
    {
      "cell_type": "code",
      "metadata": {
        "id": "Vi3lRO_fDZuW",
        "colab_type": "code",
        "colab": {}
      },
      "source": [
        "#splitting dataset into train and test spilt\n",
        "training_size = int(len(df1)*0.70)\n",
        "test_size = len(df1) - training_size\n",
        "train_data, test_data = df1[0:training_size, :], df1[training_size:len(df1), :1]"
      ],
      "execution_count": 30,
      "outputs": []
    },
    {
      "cell_type": "code",
      "metadata": {
        "id": "YY9AnZUIEKuh",
        "colab_type": "code",
        "colab": {
          "base_uri": "https://localhost:8080/",
          "height": 34
        },
        "outputId": "f96b7574-a548-4540-f6ca-b4bef22cc3c2"
      },
      "source": [
        "training_size"
      ],
      "execution_count": 31,
      "outputs": [
        {
          "output_type": "execute_result",
          "data": {
            "text/plain": [
              "880"
            ]
          },
          "metadata": {
            "tags": []
          },
          "execution_count": 31
        }
      ]
    },
    {
      "cell_type": "code",
      "metadata": {
        "id": "p9RLQhSIF8iy",
        "colab_type": "code",
        "colab": {
          "base_uri": "https://localhost:8080/",
          "height": 34
        },
        "outputId": "65f88a6b-4e59-4b83-ce94-dfb559141fec"
      },
      "source": [
        "test_size"
      ],
      "execution_count": 32,
      "outputs": [
        {
          "output_type": "execute_result",
          "data": {
            "text/plain": [
              "378"
            ]
          },
          "metadata": {
            "tags": []
          },
          "execution_count": 32
        }
      ]
    },
    {
      "cell_type": "code",
      "metadata": {
        "id": "kk4zi8N1GaiY",
        "colab_type": "code",
        "colab": {}
      },
      "source": [
        "def create_dataset(dataset, time_step =1):\n",
        "  dataX, dataY = [], []\n",
        "  for i in range(len(dataset) - time_step-1):\n",
        "    a = dataset[i:(i+time_step),0]\n",
        "    dataX.append(a)\n",
        "    dataY.append(dataset[i + time_step, 0])\n",
        "  return np.array(dataX),np.array(dataY) "
      ],
      "execution_count": 39,
      "outputs": []
    },
    {
      "cell_type": "code",
      "metadata": {
        "id": "f2AFdoFgHX4J",
        "colab_type": "code",
        "colab": {}
      },
      "source": [
        "time_step = 100\n",
        "X_train, y_train = create_dataset(train_data, time_step)\n",
        "X_test, y_test = create_dataset(test_data, time_step)"
      ],
      "execution_count": 40,
      "outputs": []
    },
    {
      "cell_type": "code",
      "metadata": {
        "id": "K1mivJvWH9dF",
        "colab_type": "code",
        "colab": {
          "base_uri": "https://localhost:8080/",
          "height": 235
        },
        "outputId": "6c198836-b2a8-4fb3-bfb3-4c66e9ac3ee8"
      },
      "source": [
        "X_train"
      ],
      "execution_count": 41,
      "outputs": [
        {
          "output_type": "execute_result",
          "data": {
            "text/plain": [
              "array([[0.12079756, 0.12062656, 0.12476487, ..., 0.09394986, 0.09562571,\n",
              "        0.09234242],\n",
              "       [0.12062656, 0.12476487, 0.13054482, ..., 0.09562571, 0.09234242,\n",
              "        0.08871712],\n",
              "       [0.12476487, 0.13054482, 0.13434112, ..., 0.09234242, 0.08871712,\n",
              "        0.08502343],\n",
              "       ...,\n",
              "       [0.40541742, 0.4008003 , 0.40538322, ..., 0.2253497 , 0.23051404,\n",
              "        0.23112966],\n",
              "       [0.4008003 , 0.40538322, 0.4083929 , ..., 0.23051404, 0.23112966,\n",
              "        0.17733165],\n",
              "       [0.40538322, 0.4083929 , 0.41006874, ..., 0.23112966, 0.17733165,\n",
              "        0.19809159]])"
            ]
          },
          "metadata": {
            "tags": []
          },
          "execution_count": 41
        }
      ]
    },
    {
      "cell_type": "code",
      "metadata": {
        "id": "_wpONSHLJSX7",
        "colab_type": "code",
        "colab": {
          "base_uri": "https://localhost:8080/",
          "height": 34
        },
        "outputId": "5f8a2b77-3d9f-453b-a486-abc525a23c59"
      },
      "source": [
        "X_train.shape"
      ],
      "execution_count": 42,
      "outputs": [
        {
          "output_type": "execute_result",
          "data": {
            "text/plain": [
              "(779, 100)"
            ]
          },
          "metadata": {
            "tags": []
          },
          "execution_count": 42
        }
      ]
    },
    {
      "cell_type": "code",
      "metadata": {
        "id": "hCwDW0zdJ-8Y",
        "colab_type": "code",
        "colab": {
          "base_uri": "https://localhost:8080/",
          "height": 34
        },
        "outputId": "10d72724-cb84-43b3-8ebe-b93c4f9baa11"
      },
      "source": [
        "y_train.shape"
      ],
      "execution_count": 43,
      "outputs": [
        {
          "output_type": "execute_result",
          "data": {
            "text/plain": [
              "(779,)"
            ]
          },
          "metadata": {
            "tags": []
          },
          "execution_count": 43
        }
      ]
    },
    {
      "cell_type": "code",
      "metadata": {
        "id": "6abVAjAYKA3g",
        "colab_type": "code",
        "colab": {
          "base_uri": "https://localhost:8080/",
          "height": 34
        },
        "outputId": "0444f10b-1c9f-40d1-fbcd-d76d62398887"
      },
      "source": [
        "X_test.shape"
      ],
      "execution_count": 45,
      "outputs": [
        {
          "output_type": "execute_result",
          "data": {
            "text/plain": [
              "(277, 100)"
            ]
          },
          "metadata": {
            "tags": []
          },
          "execution_count": 45
        }
      ]
    },
    {
      "cell_type": "code",
      "metadata": {
        "id": "TziLU0UzKEfa",
        "colab_type": "code",
        "colab": {}
      },
      "source": [
        "#reshape the input into 3D shape\n",
        "X_train = X_train.reshape(X_train.shape[0], X_train.shape[1],1)\n",
        "X_test = X_test.reshape(X_test.shape[0], X_test.shape[1],1)"
      ],
      "execution_count": 46,
      "outputs": []
    },
    {
      "cell_type": "code",
      "metadata": {
        "id": "BrBj8MOZLIfh",
        "colab_type": "code",
        "colab": {}
      },
      "source": [
        "import tensorflow"
      ],
      "execution_count": 48,
      "outputs": []
    },
    {
      "cell_type": "code",
      "metadata": {
        "id": "WsR7HQJiK1KS",
        "colab_type": "code",
        "colab": {}
      },
      "source": [
        "#creating the model\n",
        "from tensorflow.keras.models import Sequential\n",
        "from tensorflow.keras.layers import Dense\n",
        "from tensorflow.keras.layers import LSTM"
      ],
      "execution_count": 50,
      "outputs": []
    },
    {
      "cell_type": "code",
      "metadata": {
        "id": "fFgVsAKkLGq6",
        "colab_type": "code",
        "colab": {}
      },
      "source": [
        "model = Sequential()\n",
        "model.add(LSTM(50, return_sequences = True, input_shape = (100,1)))\n",
        "model.add(LSTM(50, return_sequences = True))\n",
        "model.add(LSTM(50))\n",
        "model.add(Dense(1))\n",
        "model.compile(loss = 'mean_squared_error', optimizer = 'adam')"
      ],
      "execution_count": 51,
      "outputs": []
    },
    {
      "cell_type": "code",
      "metadata": {
        "id": "qOjbMlLJL06m",
        "colab_type": "code",
        "colab": {
          "base_uri": "https://localhost:8080/",
          "height": 286
        },
        "outputId": "fdb278db-bc29-4a0d-969f-38d6b177abac"
      },
      "source": [
        "model.summary()"
      ],
      "execution_count": 52,
      "outputs": [
        {
          "output_type": "stream",
          "text": [
            "Model: \"sequential\"\n",
            "_________________________________________________________________\n",
            "Layer (type)                 Output Shape              Param #   \n",
            "=================================================================\n",
            "lstm (LSTM)                  (None, 100, 50)           10400     \n",
            "_________________________________________________________________\n",
            "lstm_1 (LSTM)                (None, 100, 50)           20200     \n",
            "_________________________________________________________________\n",
            "lstm_2 (LSTM)                (None, 50)                20200     \n",
            "_________________________________________________________________\n",
            "dense (Dense)                (None, 1)                 51        \n",
            "=================================================================\n",
            "Total params: 50,851\n",
            "Trainable params: 50,851\n",
            "Non-trainable params: 0\n",
            "_________________________________________________________________\n"
          ],
          "name": "stdout"
        }
      ]
    },
    {
      "cell_type": "code",
      "metadata": {
        "id": "7zltxyFvL3S8",
        "colab_type": "code",
        "colab": {
          "base_uri": "https://localhost:8080/",
          "height": 1000
        },
        "outputId": "f868eb17-df81-4261-f2a5-39dd9bd86375"
      },
      "source": [
        "model.fit(X_train,y_train, validation_data = (X_test, y_test), epochs=100, batch_size=64)"
      ],
      "execution_count": 53,
      "outputs": [
        {
          "output_type": "stream",
          "text": [
            "Epoch 1/100\n",
            "13/13 [==============================] - 4s 275ms/step - loss: 0.0151 - val_loss: 0.0776\n",
            "Epoch 2/100\n",
            "13/13 [==============================] - 3s 194ms/step - loss: 0.0034 - val_loss: 0.0106\n",
            "Epoch 3/100\n",
            "13/13 [==============================] - 3s 198ms/step - loss: 0.0013 - val_loss: 0.0043\n",
            "Epoch 4/100\n",
            "13/13 [==============================] - 3s 194ms/step - loss: 7.7301e-04 - val_loss: 0.0048\n",
            "Epoch 5/100\n",
            "13/13 [==============================] - 3s 201ms/step - loss: 7.1296e-04 - val_loss: 0.0042\n",
            "Epoch 6/100\n",
            "13/13 [==============================] - 3s 210ms/step - loss: 6.3920e-04 - val_loss: 0.0039\n",
            "Epoch 7/100\n",
            "13/13 [==============================] - 3s 195ms/step - loss: 5.9142e-04 - val_loss: 0.0041\n",
            "Epoch 8/100\n",
            "13/13 [==============================] - 3s 196ms/step - loss: 5.7607e-04 - val_loss: 0.0033\n",
            "Epoch 9/100\n",
            "13/13 [==============================] - 3s 194ms/step - loss: 5.4238e-04 - val_loss: 0.0052\n",
            "Epoch 10/100\n",
            "13/13 [==============================] - 3s 204ms/step - loss: 5.1114e-04 - val_loss: 0.0045\n",
            "Epoch 11/100\n",
            "13/13 [==============================] - 3s 199ms/step - loss: 4.7392e-04 - val_loss: 0.0038\n",
            "Epoch 12/100\n",
            "13/13 [==============================] - 3s 197ms/step - loss: 4.5476e-04 - val_loss: 0.0033\n",
            "Epoch 13/100\n",
            "13/13 [==============================] - 3s 198ms/step - loss: 4.2074e-04 - val_loss: 0.0090\n",
            "Epoch 14/100\n",
            "13/13 [==============================] - 3s 197ms/step - loss: 4.9039e-04 - val_loss: 0.0026\n",
            "Epoch 15/100\n",
            "13/13 [==============================] - 3s 205ms/step - loss: 4.3152e-04 - val_loss: 0.0063\n",
            "Epoch 16/100\n",
            "13/13 [==============================] - 3s 206ms/step - loss: 3.9609e-04 - val_loss: 0.0033\n",
            "Epoch 17/100\n",
            "13/13 [==============================] - 3s 199ms/step - loss: 3.8851e-04 - val_loss: 0.0071\n",
            "Epoch 18/100\n",
            "13/13 [==============================] - 3s 196ms/step - loss: 4.6496e-04 - val_loss: 0.0027\n",
            "Epoch 19/100\n",
            "13/13 [==============================] - 3s 198ms/step - loss: 3.9607e-04 - val_loss: 0.0051\n",
            "Epoch 20/100\n",
            "13/13 [==============================] - 3s 198ms/step - loss: 3.8503e-04 - val_loss: 0.0054\n",
            "Epoch 21/100\n",
            "13/13 [==============================] - 3s 206ms/step - loss: 3.9402e-04 - val_loss: 0.0030\n",
            "Epoch 22/100\n",
            "13/13 [==============================] - 3s 200ms/step - loss: 3.5447e-04 - val_loss: 0.0048\n",
            "Epoch 23/100\n",
            "13/13 [==============================] - 3s 197ms/step - loss: 3.7222e-04 - val_loss: 0.0028\n",
            "Epoch 24/100\n",
            "13/13 [==============================] - 3s 198ms/step - loss: 3.5023e-04 - val_loss: 0.0043\n",
            "Epoch 25/100\n",
            "13/13 [==============================] - 3s 202ms/step - loss: 3.4770e-04 - val_loss: 0.0025\n",
            "Epoch 26/100\n",
            "13/13 [==============================] - 3s 206ms/step - loss: 3.4710e-04 - val_loss: 0.0022\n",
            "Epoch 27/100\n",
            "13/13 [==============================] - 3s 200ms/step - loss: 3.4216e-04 - val_loss: 0.0016\n",
            "Epoch 28/100\n",
            "13/13 [==============================] - 3s 203ms/step - loss: 3.8941e-04 - val_loss: 0.0033\n",
            "Epoch 29/100\n",
            "13/13 [==============================] - 3s 203ms/step - loss: 3.3517e-04 - val_loss: 0.0029\n",
            "Epoch 30/100\n",
            "13/13 [==============================] - 3s 200ms/step - loss: 3.2124e-04 - val_loss: 0.0034\n",
            "Epoch 31/100\n",
            "13/13 [==============================] - 3s 210ms/step - loss: 3.4999e-04 - val_loss: 0.0026\n",
            "Epoch 32/100\n",
            "13/13 [==============================] - 3s 210ms/step - loss: 3.5150e-04 - val_loss: 0.0018\n",
            "Epoch 33/100\n",
            "13/13 [==============================] - 3s 198ms/step - loss: 3.2732e-04 - val_loss: 0.0030\n",
            "Epoch 34/100\n",
            "13/13 [==============================] - 3s 193ms/step - loss: 3.3929e-04 - val_loss: 0.0027\n",
            "Epoch 35/100\n",
            "13/13 [==============================] - 3s 198ms/step - loss: 3.6841e-04 - val_loss: 0.0015\n",
            "Epoch 36/100\n",
            "13/13 [==============================] - 3s 200ms/step - loss: 3.3426e-04 - val_loss: 0.0044\n",
            "Epoch 37/100\n",
            "13/13 [==============================] - 3s 211ms/step - loss: 3.2433e-04 - val_loss: 0.0022\n",
            "Epoch 38/100\n",
            "13/13 [==============================] - 3s 205ms/step - loss: 3.0815e-04 - val_loss: 0.0028\n",
            "Epoch 39/100\n",
            "13/13 [==============================] - 3s 198ms/step - loss: 2.9100e-04 - val_loss: 0.0030\n",
            "Epoch 40/100\n",
            "13/13 [==============================] - 3s 206ms/step - loss: 2.9225e-04 - val_loss: 0.0023\n",
            "Epoch 41/100\n",
            "13/13 [==============================] - 3s 196ms/step - loss: 2.8827e-04 - val_loss: 0.0033\n",
            "Epoch 42/100\n",
            "13/13 [==============================] - 3s 204ms/step - loss: 3.0101e-04 - val_loss: 0.0017\n",
            "Epoch 43/100\n",
            "13/13 [==============================] - 3s 210ms/step - loss: 2.8734e-04 - val_loss: 0.0012\n",
            "Epoch 44/100\n",
            "13/13 [==============================] - 3s 198ms/step - loss: 3.2010e-04 - val_loss: 0.0014\n",
            "Epoch 45/100\n",
            "13/13 [==============================] - 3s 197ms/step - loss: 2.8956e-04 - val_loss: 0.0023\n",
            "Epoch 46/100\n",
            "13/13 [==============================] - 3s 202ms/step - loss: 2.7509e-04 - val_loss: 0.0020\n",
            "Epoch 47/100\n",
            "13/13 [==============================] - 3s 209ms/step - loss: 2.8698e-04 - val_loss: 0.0017\n",
            "Epoch 48/100\n",
            "13/13 [==============================] - 3s 199ms/step - loss: 2.7426e-04 - val_loss: 0.0019\n",
            "Epoch 49/100\n",
            "13/13 [==============================] - 3s 197ms/step - loss: 2.5950e-04 - val_loss: 0.0025\n",
            "Epoch 50/100\n",
            "13/13 [==============================] - 3s 194ms/step - loss: 2.6491e-04 - val_loss: 0.0027\n",
            "Epoch 51/100\n",
            "13/13 [==============================] - 3s 194ms/step - loss: 2.6008e-04 - val_loss: 0.0016\n",
            "Epoch 52/100\n",
            "13/13 [==============================] - 3s 203ms/step - loss: 2.9928e-04 - val_loss: 0.0014\n",
            "Epoch 53/100\n",
            "13/13 [==============================] - 3s 202ms/step - loss: 2.8032e-04 - val_loss: 0.0015\n",
            "Epoch 54/100\n",
            "13/13 [==============================] - 3s 199ms/step - loss: 2.6255e-04 - val_loss: 0.0026\n",
            "Epoch 55/100\n",
            "13/13 [==============================] - 3s 196ms/step - loss: 2.7220e-04 - val_loss: 0.0037\n",
            "Epoch 56/100\n",
            "13/13 [==============================] - 3s 195ms/step - loss: 2.7204e-04 - val_loss: 0.0016\n",
            "Epoch 57/100\n",
            "13/13 [==============================] - 3s 207ms/step - loss: 2.5112e-04 - val_loss: 0.0016\n",
            "Epoch 58/100\n",
            "13/13 [==============================] - 3s 223ms/step - loss: 2.8031e-04 - val_loss: 0.0044\n",
            "Epoch 59/100\n",
            "13/13 [==============================] - 3s 205ms/step - loss: 2.8679e-04 - val_loss: 0.0010\n",
            "Epoch 60/100\n",
            "13/13 [==============================] - 3s 203ms/step - loss: 2.8583e-04 - val_loss: 0.0013\n",
            "Epoch 61/100\n",
            "13/13 [==============================] - 3s 195ms/step - loss: 2.9559e-04 - val_loss: 0.0041\n",
            "Epoch 62/100\n",
            "13/13 [==============================] - 3s 199ms/step - loss: 2.8381e-04 - val_loss: 0.0022\n",
            "Epoch 63/100\n",
            "13/13 [==============================] - 3s 207ms/step - loss: 2.7458e-04 - val_loss: 0.0023\n",
            "Epoch 64/100\n",
            "13/13 [==============================] - 3s 205ms/step - loss: 2.4593e-04 - val_loss: 0.0013\n",
            "Epoch 65/100\n",
            "13/13 [==============================] - 3s 201ms/step - loss: 2.1498e-04 - val_loss: 0.0036\n",
            "Epoch 66/100\n",
            "13/13 [==============================] - 3s 198ms/step - loss: 2.5692e-04 - val_loss: 0.0016\n",
            "Epoch 67/100\n",
            "13/13 [==============================] - 3s 217ms/step - loss: 2.1769e-04 - val_loss: 0.0012\n",
            "Epoch 68/100\n",
            "13/13 [==============================] - 3s 263ms/step - loss: 2.0860e-04 - val_loss: 0.0024\n",
            "Epoch 69/100\n",
            "13/13 [==============================] - 3s 223ms/step - loss: 2.1901e-04 - val_loss: 0.0015\n",
            "Epoch 70/100\n",
            "13/13 [==============================] - 3s 197ms/step - loss: 2.0191e-04 - val_loss: 0.0015\n",
            "Epoch 71/100\n",
            "13/13 [==============================] - 3s 197ms/step - loss: 2.0373e-04 - val_loss: 0.0019\n",
            "Epoch 72/100\n",
            "13/13 [==============================] - 3s 204ms/step - loss: 1.9957e-04 - val_loss: 0.0010\n",
            "Epoch 73/100\n",
            "13/13 [==============================] - 3s 203ms/step - loss: 2.2485e-04 - val_loss: 0.0029\n",
            "Epoch 74/100\n",
            "13/13 [==============================] - 3s 205ms/step - loss: 2.0567e-04 - val_loss: 0.0028\n",
            "Epoch 75/100\n",
            "13/13 [==============================] - 3s 199ms/step - loss: 2.0782e-04 - val_loss: 0.0020\n",
            "Epoch 76/100\n",
            "13/13 [==============================] - 3s 196ms/step - loss: 2.1541e-04 - val_loss: 9.0881e-04\n",
            "Epoch 77/100\n",
            "13/13 [==============================] - 3s 193ms/step - loss: 1.8605e-04 - val_loss: 0.0033\n",
            "Epoch 78/100\n",
            "13/13 [==============================] - 3s 205ms/step - loss: 1.7723e-04 - val_loss: 0.0030\n",
            "Epoch 79/100\n",
            "13/13 [==============================] - 3s 217ms/step - loss: 2.0948e-04 - val_loss: 0.0015\n",
            "Epoch 80/100\n",
            "13/13 [==============================] - 3s 203ms/step - loss: 1.6940e-04 - val_loss: 0.0023\n",
            "Epoch 81/100\n",
            "13/13 [==============================] - 3s 194ms/step - loss: 1.8112e-04 - val_loss: 0.0050\n",
            "Epoch 82/100\n",
            "13/13 [==============================] - 3s 198ms/step - loss: 2.1703e-04 - val_loss: 0.0026\n",
            "Epoch 83/100\n",
            "13/13 [==============================] - 3s 196ms/step - loss: 1.9652e-04 - val_loss: 9.6919e-04\n",
            "Epoch 84/100\n",
            "13/13 [==============================] - 3s 204ms/step - loss: 1.7915e-04 - val_loss: 0.0023\n",
            "Epoch 85/100\n",
            "13/13 [==============================] - 3s 204ms/step - loss: 1.6104e-04 - val_loss: 0.0012\n",
            "Epoch 86/100\n",
            "13/13 [==============================] - 3s 203ms/step - loss: 1.5855e-04 - val_loss: 8.5126e-04\n",
            "Epoch 87/100\n",
            "13/13 [==============================] - 3s 197ms/step - loss: 1.8329e-04 - val_loss: 0.0024\n",
            "Epoch 88/100\n",
            "13/13 [==============================] - 3s 196ms/step - loss: 1.8351e-04 - val_loss: 0.0025\n",
            "Epoch 89/100\n",
            "13/13 [==============================] - 3s 202ms/step - loss: 1.6840e-04 - val_loss: 0.0018\n",
            "Epoch 90/100\n",
            "13/13 [==============================] - 3s 203ms/step - loss: 1.5865e-04 - val_loss: 0.0019\n",
            "Epoch 91/100\n",
            "13/13 [==============================] - 3s 196ms/step - loss: 1.6037e-04 - val_loss: 0.0015\n",
            "Epoch 92/100\n",
            "13/13 [==============================] - 3s 199ms/step - loss: 1.5166e-04 - val_loss: 0.0025\n",
            "Epoch 93/100\n",
            "13/13 [==============================] - 3s 197ms/step - loss: 1.8004e-04 - val_loss: 0.0014\n",
            "Epoch 94/100\n",
            "13/13 [==============================] - 3s 201ms/step - loss: 1.5450e-04 - val_loss: 0.0020\n",
            "Epoch 95/100\n",
            "13/13 [==============================] - 3s 204ms/step - loss: 1.4951e-04 - val_loss: 0.0015\n",
            "Epoch 96/100\n",
            "13/13 [==============================] - 3s 199ms/step - loss: 1.4930e-04 - val_loss: 0.0015\n",
            "Epoch 97/100\n",
            "13/13 [==============================] - 3s 196ms/step - loss: 1.4512e-04 - val_loss: 0.0020\n",
            "Epoch 98/100\n",
            "13/13 [==============================] - 3s 200ms/step - loss: 1.7293e-04 - val_loss: 0.0025\n",
            "Epoch 99/100\n",
            "13/13 [==============================] - 3s 198ms/step - loss: 1.6120e-04 - val_loss: 0.0025\n",
            "Epoch 100/100\n",
            "13/13 [==============================] - 3s 208ms/step - loss: 1.7205e-04 - val_loss: 0.0011\n"
          ],
          "name": "stdout"
        },
        {
          "output_type": "execute_result",
          "data": {
            "text/plain": [
              "<tensorflow.python.keras.callbacks.History at 0x7ff0f6a164e0>"
            ]
          },
          "metadata": {
            "tags": []
          },
          "execution_count": 53
        }
      ]
    },
    {
      "cell_type": "code",
      "metadata": {
        "id": "KtAfkO-sO7fp",
        "colab_type": "code",
        "colab": {}
      },
      "source": [
        "train_predict = model.predict(X_train)\n",
        "test_predict = model.predict(X_test)"
      ],
      "execution_count": 55,
      "outputs": []
    },
    {
      "cell_type": "code",
      "metadata": {
        "id": "KUcpqZMEOByx",
        "colab_type": "code",
        "colab": {}
      },
      "source": [
        "train_predict = scaler.inverse_transform(train_predict)\n",
        "test_predict = scaler.inverse_transform(test_predict)"
      ],
      "execution_count": 56,
      "outputs": []
    },
    {
      "cell_type": "code",
      "metadata": {
        "id": "xNazKY0ZPcTC",
        "colab_type": "code",
        "colab": {
          "base_uri": "https://localhost:8080/",
          "height": 34
        },
        "outputId": "5ee9a6ae-c940-49b0-fe65-863b702a1460"
      },
      "source": [
        "import math\n",
        "from sklearn.metrics import mean_squared_error\n",
        "math.sqrt(mean_squared_error(y_train, train_predict))"
      ],
      "execution_count": 57,
      "outputs": [
        {
          "output_type": "execute_result",
          "data": {
            "text/plain": [
              "152.53999417522883"
            ]
          },
          "metadata": {
            "tags": []
          },
          "execution_count": 57
        }
      ]
    },
    {
      "cell_type": "code",
      "metadata": {
        "id": "k9yBe_wZPuZm",
        "colab_type": "code",
        "colab": {
          "base_uri": "https://localhost:8080/",
          "height": 34
        },
        "outputId": "c89f2fdd-0f55-4bad-b31b-6975f81475e3"
      },
      "source": [
        "math.sqrt(mean_squared_error(y_test, test_predict))"
      ],
      "execution_count": 58,
      "outputs": [
        {
          "output_type": "execute_result",
          "data": {
            "text/plain": [
              "263.306162431081"
            ]
          },
          "metadata": {
            "tags": []
          },
          "execution_count": 58
        }
      ]
    },
    {
      "cell_type": "code",
      "metadata": {
        "id": "jHVTz6LhP8Jn",
        "colab_type": "code",
        "colab": {
          "base_uri": "https://localhost:8080/",
          "height": 265
        },
        "outputId": "f2a871cf-8237-486a-b660-9d8176bb7a18"
      },
      "source": [
        "### Plotting \n",
        "# shift train predictions for plotting\n",
        "look_back=100\n",
        "trainPredictPlot = np.empty_like(df1)\n",
        "trainPredictPlot[:, :] = np.nan\n",
        "trainPredictPlot[look_back:len(train_predict)+look_back, :] = train_predict\n",
        "# shift test predictions for plotting\n",
        "testPredictPlot = np.empty_like(df1)\n",
        "testPredictPlot[:, :] = np.nan\n",
        "testPredictPlot[len(train_predict)+(look_back*2)+1:len(df1)-1, :] = test_predict\n",
        "# plot baseline and predictions\n",
        "plt.plot(scaler.inverse_transform(df1))\n",
        "plt.plot(trainPredictPlot)\n",
        "plt.plot(testPredictPlot)\n",
        "plt.show()"
      ],
      "execution_count": 60,
      "outputs": [
        {
          "output_type": "display_data",
          "data": {
            "image/png": "[encoded data removed]",
            "text/plain": [
              "<Figure size 432x288 with 1 Axes>"
            ]
          },
          "metadata": {
            "tags": [],
            "needs_background": "light"
          }
        }
      ]
    },
    {
      "cell_type": "markdown",
      "metadata": {
        "id": "zSO5aflIR7O3",
        "colab_type": "text"
      },
      "source": [
        "**Predicting for future 30 days**"
      ]
    },
    {
      "cell_type": "code",
      "metadata": {
        "id": "vVT3HgSJR1CK",
        "colab_type": "code",
        "colab": {
          "base_uri": "https://localhost:8080/",
          "height": 34
        },
        "outputId": "50074031-62d2-406d-ebe2-905d5a9d19da"
      },
      "source": [
        "len(test_data)"
      ],
      "execution_count": 62,
      "outputs": [
        {
          "output_type": "execute_result",
          "data": {
            "text/plain": [
              "378"
            ]
          },
          "metadata": {
            "tags": []
          },
          "execution_count": 62
        }
      ]
    },
    {
      "cell_type": "code",
      "metadata": {
        "id": "XWxCY1sFSERi",
        "colab_type": "code",
        "colab": {
          "base_uri": "https://localhost:8080/",
          "height": 34
        },
        "outputId": "38538dbc-fd19-4081-c840-6fc9472fc5cb"
      },
      "source": [
        "X_input = test_data[278:].reshape(1,-1)\n",
        "X_input.shape"
      ],
      "execution_count": 63,
      "outputs": [
        {
          "output_type": "execute_result",
          "data": {
            "text/plain": [
              "(1, 100)"
            ]
          },
          "metadata": {
            "tags": []
          },
          "execution_count": 63
        }
      ]
    },
    {
      "cell_type": "code",
      "metadata": {
        "id": "yo17loc_STVy",
        "colab_type": "code",
        "colab": {}
      },
      "source": [
        "temp_input = list(X_input)\n",
        "temp_input = temp_input[0].tolist()"
      ],
      "execution_count": 64,
      "outputs": []
    },
    {
      "cell_type": "code",
      "metadata": {
        "id": "FOlHpvwuSu2P",
        "colab_type": "code",
        "colab": {
          "base_uri": "https://localhost:8080/",
          "height": 1000
        },
        "outputId": "cc8f5b60-a9f0-4879-9697-702ec3e965f2"
      },
      "source": [
        "from numpy import array\n",
        "\n",
        "lst_output=[]\n",
        "n_steps=100\n",
        "i=0\n",
        "while(i<30):\n",
        "    \n",
        "    if(len(temp_input)>100):\n",
        "        #print(temp_input)\n",
        "        x_input=np.array(temp_input[1:])\n",
        "        print(\"{} day input {}\".format(i,x_input))\n",
        "        x_input=x_input.reshape(1,-1)\n",
        "        x_input = x_input.reshape((1, n_steps, 1))\n",
        "        #print(x_input)\n",
        "        yhat = model.predict(x_input, verbose=0)\n",
        "        print(\"{} day output {}\".format(i,yhat))\n",
        "        temp_input.extend(yhat[0].tolist())\n",
        "        temp_input=temp_input[1:]\n",
        "        #print(temp_input)\n",
        "        lst_output.extend(yhat.tolist())\n",
        "        i=i+1\n",
        "    else:\n",
        "        x_input = X_input.reshape((1, n_steps,1))\n",
        "        yhat = model.predict(x_input, verbose=0)\n",
        "        print(yhat[0])\n",
        "        temp_input.extend(yhat[0].tolist())\n",
        "        print(len(temp_input))\n",
        "        lst_output.extend(yhat.tolist())\n",
        "        i=i+1\n",
        "    \n",
        "\n",
        "print(lst_output)"
      ],
      "execution_count": 66,
      "outputs": [
        {
          "output_type": "stream",
          "text": [
            "[0.96306956]\n",
            "101\n",
            "1 day input [0.7978385  0.78648381 0.76168816 0.71083142 0.67628852 0.69191833\n",
            " 0.62649201 0.6259448  0.71298608 0.68052943 0.72642703 0.69284175\n",
            " 0.6795376  0.60135436 0.66691747 0.63302439 0.53999795 0.64171141\n",
            " 0.51940901 0.55583296 0.53466261 0.52819864 0.47505045 0.45839461\n",
            " 0.53538083 0.53072951 0.57491706 0.5383221  0.56250214 0.56072369\n",
            " 0.51496289 0.52871165 0.51667294 0.58870002 0.57830295 0.60101235\n",
            " 0.60757892 0.62556859 0.67276583 0.66380519 0.67153459 0.65823045\n",
            " 0.63815452 0.60887855 0.63531585 0.63165635 0.65881186 0.65949588\n",
            " 0.64379767 0.67509149 0.69585143 0.67967441 0.69366257 0.70871097\n",
            " 0.71921064 0.72984712 0.75170149 0.76839153 0.75607921 0.74321967\n",
            " 0.74968364 0.74342488 0.76822053 0.76199596 0.78282431 0.7746845\n",
            " 0.78166148 0.77427409 0.77899381 0.77947262 0.77841239 0.79178494\n",
            " 0.79688088 0.80296864 0.79339239 0.82478881 0.83149219 0.86750573\n",
            " 0.89777352 0.8398372  0.84975546 0.86408564 0.89517425 0.89349841\n",
            " 0.89397722 0.88710284 0.91839666 0.94459455 0.92246657 0.9388146\n",
            " 0.90047539 0.92834912 0.93867779 0.93631793 0.93631793 0.9696296\n",
            " 0.9656623  0.99534868 1.         0.96306956]\n",
            "1 day output [[0.95692384]]\n",
            "2 day input [0.78648381 0.76168816 0.71083142 0.67628852 0.69191833 0.62649201\n",
            " 0.6259448  0.71298608 0.68052943 0.72642703 0.69284175 0.6795376\n",
            " 0.60135436 0.66691747 0.63302439 0.53999795 0.64171141 0.51940901\n",
            " 0.55583296 0.53466261 0.52819864 0.47505045 0.45839461 0.53538083\n",
            " 0.53072951 0.57491706 0.5383221  0.56250214 0.56072369 0.51496289\n",
            " 0.52871165 0.51667294 0.58870002 0.57830295 0.60101235 0.60757892\n",
            " 0.62556859 0.67276583 0.66380519 0.67153459 0.65823045 0.63815452\n",
            " 0.60887855 0.63531585 0.63165635 0.65881186 0.65949588 0.64379767\n",
            " 0.67509149 0.69585143 0.67967441 0.69366257 0.70871097 0.71921064\n",
            " 0.72984712 0.75170149 0.76839153 0.75607921 0.74321967 0.74968364\n",
            " 0.74342488 0.76822053 0.76199596 0.78282431 0.7746845  0.78166148\n",
            " 0.77427409 0.77899381 0.77947262 0.77841239 0.79178494 0.79688088\n",
            " 0.80296864 0.79339239 0.82478881 0.83149219 0.86750573 0.89777352\n",
            " 0.8398372  0.84975546 0.86408564 0.89517425 0.89349841 0.89397722\n",
            " 0.88710284 0.91839666 0.94459455 0.92246657 0.9388146  0.90047539\n",
            " 0.92834912 0.93867779 0.93631793 0.93631793 0.9696296  0.9656623\n",
            " 0.99534868 1.         0.96306956 0.95692384]\n",
            "2 day output [[0.9403198]]\n",
            "3 day input [0.76168816 0.71083142 0.67628852 0.69191833 0.62649201 0.6259448\n",
            " 0.71298608 0.68052943 0.72642703 0.69284175 0.6795376  0.60135436\n",
            " 0.66691747 0.63302439 0.53999795 0.64171141 0.51940901 0.55583296\n",
            " 0.53466261 0.52819864 0.47505045 0.45839461 0.53538083 0.53072951\n",
            " 0.57491706 0.5383221  0.56250214 0.56072369 0.51496289 0.52871165\n",
            " 0.51667294 0.58870002 0.57830295 0.60101235 0.60757892 0.62556859\n",
            " 0.67276583 0.66380519 0.67153459 0.65823045 0.63815452 0.60887855\n",
            " 0.63531585 0.63165635 0.65881186 0.65949588 0.64379767 0.67509149\n",
            " 0.69585143 0.67967441 0.69366257 0.70871097 0.71921064 0.72984712\n",
            " 0.75170149 0.76839153 0.75607921 0.74321967 0.74968364 0.74342488\n",
            " 0.76822053 0.76199596 0.78282431 0.7746845  0.78166148 0.77427409\n",
            " 0.77899381 0.77947262 0.77841239 0.79178494 0.79688088 0.80296864\n",
            " 0.79339239 0.82478881 0.83149219 0.86750573 0.89777352 0.8398372\n",
            " 0.84975546 0.86408564 0.89517425 0.89349841 0.89397722 0.88710284\n",
            " 0.91839666 0.94459455 0.92246657 0.9388146  0.90047539 0.92834912\n",
            " 0.93867779 0.93631793 0.93631793 0.9696296  0.9656623  0.99534868\n",
            " 1.         0.96306956 0.95692384 0.94031978]\n",
            "3 day output [[0.9203389]]\n",
            "4 day input [0.71083142 0.67628852 0.69191833 0.62649201 0.6259448  0.71298608\n",
            " 0.68052943 0.72642703 0.69284175 0.6795376  0.60135436 0.66691747\n",
            " 0.63302439 0.53999795 0.64171141 0.51940901 0.55583296 0.53466261\n",
            " 0.52819864 0.47505045 0.45839461 0.53538083 0.53072951 0.57491706\n",
            " 0.5383221  0.56250214 0.56072369 0.51496289 0.52871165 0.51667294\n",
            " 0.58870002 0.57830295 0.60101235 0.60757892 0.62556859 0.67276583\n",
            " 0.66380519 0.67153459 0.65823045 0.63815452 0.60887855 0.63531585\n",
            " 0.63165635 0.65881186 0.65949588 0.64379767 0.67509149 0.69585143\n",
            " 0.67967441 0.69366257 0.70871097 0.71921064 0.72984712 0.75170149\n",
            " 0.76839153 0.75607921 0.74321967 0.74968364 0.74342488 0.76822053\n",
            " 0.76199596 0.78282431 0.7746845  0.78166148 0.77427409 0.77899381\n",
            " 0.77947262 0.77841239 0.79178494 0.79688088 0.80296864 0.79339239\n",
            " 0.82478881 0.83149219 0.86750573 0.89777352 0.8398372  0.84975546\n",
            " 0.86408564 0.89517425 0.89349841 0.89397722 0.88710284 0.91839666\n",
            " 0.94459455 0.92246657 0.9388146  0.90047539 0.92834912 0.93867779\n",
            " 0.93631793 0.93631793 0.9696296  0.9656623  0.99534868 1.\n",
            " 0.96306956 0.95692384 0.94031978 0.92033893]\n",
            "4 day output [[0.9015568]]\n",
            "5 day input [0.67628852 0.69191833 0.62649201 0.6259448  0.71298608 0.68052943\n",
            " 0.72642703 0.69284175 0.6795376  0.60135436 0.66691747 0.63302439\n",
            " 0.53999795 0.64171141 0.51940901 0.55583296 0.53466261 0.52819864\n",
            " 0.47505045 0.45839461 0.53538083 0.53072951 0.57491706 0.5383221\n",
            " 0.56250214 0.56072369 0.51496289 0.52871165 0.51667294 0.58870002\n",
            " 0.57830295 0.60101235 0.60757892 0.62556859 0.67276583 0.66380519\n",
            " 0.67153459 0.65823045 0.63815452 0.60887855 0.63531585 0.63165635\n",
            " 0.65881186 0.65949588 0.64379767 0.67509149 0.69585143 0.67967441\n",
            " 0.69366257 0.70871097 0.71921064 0.72984712 0.75170149 0.76839153\n",
            " 0.75607921 0.74321967 0.74968364 0.74342488 0.76822053 0.76199596\n",
            " 0.78282431 0.7746845  0.78166148 0.77427409 0.77899381 0.77947262\n",
            " 0.77841239 0.79178494 0.79688088 0.80296864 0.79339239 0.82478881\n",
            " 0.83149219 0.86750573 0.89777352 0.8398372  0.84975546 0.86408564\n",
            " 0.89517425 0.89349841 0.89397722 0.88710284 0.91839666 0.94459455\n",
            " 0.92246657 0.9388146  0.90047539 0.92834912 0.93867779 0.93631793\n",
            " 0.93631793 0.9696296  0.9656623  0.99534868 1.         0.96306956\n",
            " 0.95692384 0.94031978 0.92033893 0.90155679]\n",
            "5 day output [[0.8864622]]\n",
            "6 day input [0.69191833 0.62649201 0.6259448  0.71298608 0.68052943 0.72642703\n",
            " 0.69284175 0.6795376  0.60135436 0.66691747 0.63302439 0.53999795\n",
            " 0.64171141 0.51940901 0.55583296 0.53466261 0.52819864 0.47505045\n",
            " 0.45839461 0.53538083 0.53072951 0.57491706 0.5383221  0.56250214\n",
            " 0.56072369 0.51496289 0.52871165 0.51667294 0.58870002 0.57830295\n",
            " 0.60101235 0.60757892 0.62556859 0.67276583 0.66380519 0.67153459\n",
            " 0.65823045 0.63815452 0.60887855 0.63531585 0.63165635 0.65881186\n",
            " 0.65949588 0.64379767 0.67509149 0.69585143 0.67967441 0.69366257\n",
            " 0.70871097 0.71921064 0.72984712 0.75170149 0.76839153 0.75607921\n",
            " 0.74321967 0.74968364 0.74342488 0.76822053 0.76199596 0.78282431\n",
            " 0.7746845  0.78166148 0.77427409 0.77899381 0.77947262 0.77841239\n",
            " 0.79178494 0.79688088 0.80296864 0.79339239 0.82478881 0.83149219\n",
            " 0.86750573 0.89777352 0.8398372  0.84975546 0.86408564 0.89517425\n",
            " 0.89349841 0.89397722 0.88710284 0.91839666 0.94459455 0.92246657\n",
            " 0.9388146  0.90047539 0.92834912 0.93867779 0.93631793 0.93631793\n",
            " 0.9696296  0.9656623  0.99534868 1.         0.96306956 0.95692384\n",
            " 0.94031978 0.92033893 0.90155679 0.88646221]\n",
            "6 day output [[0.8760034]]\n",
            "7 day input [0.62649201 0.6259448  0.71298608 0.68052943 0.72642703 0.69284175\n",
            " 0.6795376  0.60135436 0.66691747 0.63302439 0.53999795 0.64171141\n",
            " 0.51940901 0.55583296 0.53466261 0.52819864 0.47505045 0.45839461\n",
            " 0.53538083 0.53072951 0.57491706 0.5383221  0.56250214 0.56072369\n",
            " 0.51496289 0.52871165 0.51667294 0.58870002 0.57830295 0.60101235\n",
            " 0.60757892 0.62556859 0.67276583 0.66380519 0.67153459 0.65823045\n",
            " 0.63815452 0.60887855 0.63531585 0.63165635 0.65881186 0.65949588\n",
            " 0.64379767 0.67509149 0.69585143 0.67967441 0.69366257 0.70871097\n",
            " 0.71921064 0.72984712 0.75170149 0.76839153 0.75607921 0.74321967\n",
            " 0.74968364 0.74342488 0.76822053 0.76199596 0.78282431 0.7746845\n",
            " 0.78166148 0.77427409 0.77899381 0.77947262 0.77841239 0.79178494\n",
            " 0.79688088 0.80296864 0.79339239 0.82478881 0.83149219 0.86750573\n",
            " 0.89777352 0.8398372  0.84975546 0.86408564 0.89517425 0.89349841\n",
            " 0.89397722 0.88710284 0.91839666 0.94459455 0.92246657 0.9388146\n",
            " 0.90047539 0.92834912 0.93867779 0.93631793 0.93631793 0.9696296\n",
            " 0.9656623  0.99534868 1.         0.96306956 0.95692384 0.94031978\n",
            " 0.92033893 0.90155679 0.88646221 0.87600338]\n",
            "7 day output [[0.8699774]]\n",
            "8 day input [0.6259448  0.71298608 0.68052943 0.72642703 0.69284175 0.6795376\n",
            " 0.60135436 0.66691747 0.63302439 0.53999795 0.64171141 0.51940901\n",
            " 0.55583296 0.53466261 0.52819864 0.47505045 0.45839461 0.53538083\n",
            " 0.53072951 0.57491706 0.5383221  0.56250214 0.56072369 0.51496289\n",
            " 0.52871165 0.51667294 0.58870002 0.57830295 0.60101235 0.60757892\n",
            " 0.62556859 0.67276583 0.66380519 0.67153459 0.65823045 0.63815452\n",
            " 0.60887855 0.63531585 0.63165635 0.65881186 0.65949588 0.64379767\n",
            " 0.67509149 0.69585143 0.67967441 0.69366257 0.70871097 0.71921064\n",
            " 0.72984712 0.75170149 0.76839153 0.75607921 0.74321967 0.74968364\n",
            " 0.74342488 0.76822053 0.76199596 0.78282431 0.7746845  0.78166148\n",
            " 0.77427409 0.77899381 0.77947262 0.77841239 0.79178494 0.79688088\n",
            " 0.80296864 0.79339239 0.82478881 0.83149219 0.86750573 0.89777352\n",
            " 0.8398372  0.84975546 0.86408564 0.89517425 0.89349841 0.89397722\n",
            " 0.88710284 0.91839666 0.94459455 0.92246657 0.9388146  0.90047539\n",
            " 0.92834912 0.93867779 0.93631793 0.93631793 0.9696296  0.9656623\n",
            " 0.99534868 1.         0.96306956 0.95692384 0.94031978 0.92033893\n",
            " 0.90155679 0.88646221 0.87600338 0.86997741]\n",
            "8 day output [[0.86735827]]\n",
            "9 day input [0.71298608 0.68052943 0.72642703 0.69284175 0.6795376  0.60135436\n",
            " 0.66691747 0.63302439 0.53999795 0.64171141 0.51940901 0.55583296\n",
            " 0.53466261 0.52819864 0.47505045 0.45839461 0.53538083 0.53072951\n",
            " 0.57491706 0.5383221  0.56250214 0.56072369 0.51496289 0.52871165\n",
            " 0.51667294 0.58870002 0.57830295 0.60101235 0.60757892 0.62556859\n",
            " 0.67276583 0.66380519 0.67153459 0.65823045 0.63815452 0.60887855\n",
            " 0.63531585 0.63165635 0.65881186 0.65949588 0.64379767 0.67509149\n",
            " 0.69585143 0.67967441 0.69366257 0.70871097 0.71921064 0.72984712\n",
            " 0.75170149 0.76839153 0.75607921 0.74321967 0.74968364 0.74342488\n",
            " 0.76822053 0.76199596 0.78282431 0.7746845  0.78166148 0.77427409\n",
            " 0.77899381 0.77947262 0.77841239 0.79178494 0.79688088 0.80296864\n",
            " 0.79339239 0.82478881 0.83149219 0.86750573 0.89777352 0.8398372\n",
            " 0.84975546 0.86408564 0.89517425 0.89349841 0.89397722 0.88710284\n",
            " 0.91839666 0.94459455 0.92246657 0.9388146  0.90047539 0.92834912\n",
            " 0.93867779 0.93631793 0.93631793 0.9696296  0.9656623  0.99534868\n",
            " 1.         0.96306956 0.95692384 0.94031978 0.92033893 0.90155679\n",
            " 0.88646221 0.87600338 0.86997741 0.86735827]\n",
            "9 day output [[0.8666346]]\n",
            "10 day input [0.68052943 0.72642703 0.69284175 0.6795376  0.60135436 0.66691747\n",
            " 0.63302439 0.53999795 0.64171141 0.51940901 0.55583296 0.53466261\n",
            " 0.52819864 0.47505045 0.45839461 0.53538083 0.53072951 0.57491706\n",
            " 0.5383221  0.56250214 0.56072369 0.51496289 0.52871165 0.51667294\n",
            " 0.58870002 0.57830295 0.60101235 0.60757892 0.62556859 0.67276583\n",
            " 0.66380519 0.67153459 0.65823045 0.63815452 0.60887855 0.63531585\n",
            " 0.63165635 0.65881186 0.65949588 0.64379767 0.67509149 0.69585143\n",
            " 0.67967441 0.69366257 0.70871097 0.71921064 0.72984712 0.75170149\n",
            " 0.76839153 0.75607921 0.74321967 0.74968364 0.74342488 0.76822053\n",
            " 0.76199596 0.78282431 0.7746845  0.78166148 0.77427409 0.77899381\n",
            " 0.77947262 0.77841239 0.79178494 0.79688088 0.80296864 0.79339239\n",
            " 0.82478881 0.83149219 0.86750573 0.89777352 0.8398372  0.84975546\n",
            " 0.86408564 0.89517425 0.89349841 0.89397722 0.88710284 0.91839666\n",
            " 0.94459455 0.92246657 0.9388146  0.90047539 0.92834912 0.93867779\n",
            " 0.93631793 0.93631793 0.9696296  0.9656623  0.99534868 1.\n",
            " 0.96306956 0.95692384 0.94031978 0.92033893 0.90155679 0.88646221\n",
            " 0.87600338 0.86997741 0.86735827 0.86663461]\n",
            "10 day output [[0.8661448]]\n",
            "11 day input [0.72642703 0.69284175 0.6795376  0.60135436 0.66691747 0.63302439\n",
            " 0.53999795 0.64171141 0.51940901 0.55583296 0.53466261 0.52819864\n",
            " 0.47505045 0.45839461 0.53538083 0.53072951 0.57491706 0.5383221\n",
            " 0.56250214 0.56072369 0.51496289 0.52871165 0.51667294 0.58870002\n",
            " 0.57830295 0.60101235 0.60757892 0.62556859 0.67276583 0.66380519\n",
            " 0.67153459 0.65823045 0.63815452 0.60887855 0.63531585 0.63165635\n",
            " 0.65881186 0.65949588 0.64379767 0.67509149 0.69585143 0.67967441\n",
            " 0.69366257 0.70871097 0.71921064 0.72984712 0.75170149 0.76839153\n",
            " 0.75607921 0.74321967 0.74968364 0.74342488 0.76822053 0.76199596\n",
            " 0.78282431 0.7746845  0.78166148 0.77427409 0.77899381 0.77947262\n",
            " 0.77841239 0.79178494 0.79688088 0.80296864 0.79339239 0.82478881\n",
            " 0.83149219 0.86750573 0.89777352 0.8398372  0.84975546 0.86408564\n",
            " 0.89517425 0.89349841 0.89397722 0.88710284 0.91839666 0.94459455\n",
            " 0.92246657 0.9388146  0.90047539 0.92834912 0.93867779 0.93631793\n",
            " 0.93631793 0.9696296  0.9656623  0.99534868 1.         0.96306956\n",
            " 0.95692384 0.94031978 0.92033893 0.90155679 0.88646221 0.87600338\n",
            " 0.86997741 0.86735827 0.86663461 0.86614478]\n",
            "11 day output [[0.86437374]]\n",
            "12 day input [0.69284175 0.6795376  0.60135436 0.66691747 0.63302439 0.53999795\n",
            " 0.64171141 0.51940901 0.55583296 0.53466261 0.52819864 0.47505045\n",
            " 0.45839461 0.53538083 0.53072951 0.57491706 0.5383221  0.56250214\n",
            " 0.56072369 0.51496289 0.52871165 0.51667294 0.58870002 0.57830295\n",
            " 0.60101235 0.60757892 0.62556859 0.67276583 0.66380519 0.67153459\n",
            " 0.65823045 0.63815452 0.60887855 0.63531585 0.63165635 0.65881186\n",
            " 0.65949588 0.64379767 0.67509149 0.69585143 0.67967441 0.69366257\n",
            " 0.70871097 0.71921064 0.72984712 0.75170149 0.76839153 0.75607921\n",
            " 0.74321967 0.74968364 0.74342488 0.76822053 0.76199596 0.78282431\n",
            " 0.7746845  0.78166148 0.77427409 0.77899381 0.77947262 0.77841239\n",
            " 0.79178494 0.79688088 0.80296864 0.79339239 0.82478881 0.83149219\n",
            " 0.86750573 0.89777352 0.8398372  0.84975546 0.86408564 0.89517425\n",
            " 0.89349841 0.89397722 0.88710284 0.91839666 0.94459455 0.92246657\n",
            " 0.9388146  0.90047539 0.92834912 0.93867779 0.93631793 0.93631793\n",
            " 0.9696296  0.9656623  0.99534868 1.         0.96306956 0.95692384\n",
            " 0.94031978 0.92033893 0.90155679 0.88646221 0.87600338 0.86997741\n",
            " 0.86735827 0.86663461 0.86614478 0.86437374]\n",
            "12 day output [[0.8601783]]\n",
            "13 day input [0.6795376  0.60135436 0.66691747 0.63302439 0.53999795 0.64171141\n",
            " 0.51940901 0.55583296 0.53466261 0.52819864 0.47505045 0.45839461\n",
            " 0.53538083 0.53072951 0.57491706 0.5383221  0.56250214 0.56072369\n",
            " 0.51496289 0.52871165 0.51667294 0.58870002 0.57830295 0.60101235\n",
            " 0.60757892 0.62556859 0.67276583 0.66380519 0.67153459 0.65823045\n",
            " 0.63815452 0.60887855 0.63531585 0.63165635 0.65881186 0.65949588\n",
            " 0.64379767 0.67509149 0.69585143 0.67967441 0.69366257 0.70871097\n",
            " 0.71921064 0.72984712 0.75170149 0.76839153 0.75607921 0.74321967\n",
            " 0.74968364 0.74342488 0.76822053 0.76199596 0.78282431 0.7746845\n",
            " 0.78166148 0.77427409 0.77899381 0.77947262 0.77841239 0.79178494\n",
            " 0.79688088 0.80296864 0.79339239 0.82478881 0.83149219 0.86750573\n",
            " 0.89777352 0.8398372  0.84975546 0.86408564 0.89517425 0.89349841\n",
            " 0.89397722 0.88710284 0.91839666 0.94459455 0.92246657 0.9388146\n",
            " 0.90047539 0.92834912 0.93867779 0.93631793 0.93631793 0.9696296\n",
            " 0.9656623  0.99534868 1.         0.96306956 0.95692384 0.94031978\n",
            " 0.92033893 0.90155679 0.88646221 0.87600338 0.86997741 0.86735827\n",
            " 0.86663461 0.86614478 0.86437374 0.86017829]\n",
            "13 day output [[0.8529215]]\n",
            "14 day input [0.60135436 0.66691747 0.63302439 0.53999795 0.64171141 0.51940901\n",
            " 0.55583296 0.53466261 0.52819864 0.47505045 0.45839461 0.53538083\n",
            " 0.53072951 0.57491706 0.5383221  0.56250214 0.56072369 0.51496289\n",
            " 0.52871165 0.51667294 0.58870002 0.57830295 0.60101235 0.60757892\n",
            " 0.62556859 0.67276583 0.66380519 0.67153459 0.65823045 0.63815452\n",
            " 0.60887855 0.63531585 0.63165635 0.65881186 0.65949588 0.64379767\n",
            " 0.67509149 0.69585143 0.67967441 0.69366257 0.70871097 0.71921064\n",
            " 0.72984712 0.75170149 0.76839153 0.75607921 0.74321967 0.74968364\n",
            " 0.74342488 0.76822053 0.76199596 0.78282431 0.7746845  0.78166148\n",
            " 0.77427409 0.77899381 0.77947262 0.77841239 0.79178494 0.79688088\n",
            " 0.80296864 0.79339239 0.82478881 0.83149219 0.86750573 0.89777352\n",
            " 0.8398372  0.84975546 0.86408564 0.89517425 0.89349841 0.89397722\n",
            " 0.88710284 0.91839666 0.94459455 0.92246657 0.9388146  0.90047539\n",
            " 0.92834912 0.93867779 0.93631793 0.93631793 0.9696296  0.9656623\n",
            " 0.99534868 1.         0.96306956 0.95692384 0.94031978 0.92033893\n",
            " 0.90155679 0.88646221 0.87600338 0.86997741 0.86735827 0.86663461\n",
            " 0.86614478 0.86437374 0.86017829 0.85292149]\n",
            "14 day output [[0.8425036]]\n",
            "15 day input [0.66691747 0.63302439 0.53999795 0.64171141 0.51940901 0.55583296\n",
            " 0.53466261 0.52819864 0.47505045 0.45839461 0.53538083 0.53072951\n",
            " 0.57491706 0.5383221  0.56250214 0.56072369 0.51496289 0.52871165\n",
            " 0.51667294 0.58870002 0.57830295 0.60101235 0.60757892 0.62556859\n",
            " 0.67276583 0.66380519 0.67153459 0.65823045 0.63815452 0.60887855\n",
            " 0.63531585 0.63165635 0.65881186 0.65949588 0.64379767 0.67509149\n",
            " 0.69585143 0.67967441 0.69366257 0.70871097 0.71921064 0.72984712\n",
            " 0.75170149 0.76839153 0.75607921 0.74321967 0.74968364 0.74342488\n",
            " 0.76822053 0.76199596 0.78282431 0.7746845  0.78166148 0.77427409\n",
            " 0.77899381 0.77947262 0.77841239 0.79178494 0.79688088 0.80296864\n",
            " 0.79339239 0.82478881 0.83149219 0.86750573 0.89777352 0.8398372\n",
            " 0.84975546 0.86408564 0.89517425 0.89349841 0.89397722 0.88710284\n",
            " 0.91839666 0.94459455 0.92246657 0.9388146  0.90047539 0.92834912\n",
            " 0.93867779 0.93631793 0.93631793 0.9696296  0.9656623  0.99534868\n",
            " 1.         0.96306956 0.95692384 0.94031978 0.92033893 0.90155679\n",
            " 0.88646221 0.87600338 0.86997741 0.86735827 0.86663461 0.86614478\n",
            " 0.86437374 0.86017829 0.85292149 0.84250361]\n",
            "15 day output [[0.8293037]]\n",
            "16 day input [0.63302439 0.53999795 0.64171141 0.51940901 0.55583296 0.53466261\n",
            " 0.52819864 0.47505045 0.45839461 0.53538083 0.53072951 0.57491706\n",
            " 0.5383221  0.56250214 0.56072369 0.51496289 0.52871165 0.51667294\n",
            " 0.58870002 0.57830295 0.60101235 0.60757892 0.62556859 0.67276583\n",
            " 0.66380519 0.67153459 0.65823045 0.63815452 0.60887855 0.63531585\n",
            " 0.63165635 0.65881186 0.65949588 0.64379767 0.67509149 0.69585143\n",
            " 0.67967441 0.69366257 0.70871097 0.71921064 0.72984712 0.75170149\n",
            " 0.76839153 0.75607921 0.74321967 0.74968364 0.74342488 0.76822053\n",
            " 0.76199596 0.78282431 0.7746845  0.78166148 0.77427409 0.77899381\n",
            " 0.77947262 0.77841239 0.79178494 0.79688088 0.80296864 0.79339239\n",
            " 0.82478881 0.83149219 0.86750573 0.89777352 0.8398372  0.84975546\n",
            " 0.86408564 0.89517425 0.89349841 0.89397722 0.88710284 0.91839666\n",
            " 0.94459455 0.92246657 0.9388146  0.90047539 0.92834912 0.93867779\n",
            " 0.93631793 0.93631793 0.9696296  0.9656623  0.99534868 1.\n",
            " 0.96306956 0.95692384 0.94031978 0.92033893 0.90155679 0.88646221\n",
            " 0.87600338 0.86997741 0.86735827 0.86663461 0.86614478 0.86437374\n",
            " 0.86017829 0.85292149 0.84250361 0.82930368]\n",
            "16 day output [[0.81404984]]\n",
            "17 day input [0.53999795 0.64171141 0.51940901 0.55583296 0.53466261 0.52819864\n",
            " 0.47505045 0.45839461 0.53538083 0.53072951 0.57491706 0.5383221\n",
            " 0.56250214 0.56072369 0.51496289 0.52871165 0.51667294 0.58870002\n",
            " 0.57830295 0.60101235 0.60757892 0.62556859 0.67276583 0.66380519\n",
            " 0.67153459 0.65823045 0.63815452 0.60887855 0.63531585 0.63165635\n",
            " 0.65881186 0.65949588 0.64379767 0.67509149 0.69585143 0.67967441\n",
            " 0.69366257 0.70871097 0.71921064 0.72984712 0.75170149 0.76839153\n",
            " 0.75607921 0.74321967 0.74968364 0.74342488 0.76822053 0.76199596\n",
            " 0.78282431 0.7746845  0.78166148 0.77427409 0.77899381 0.77947262\n",
            " 0.77841239 0.79178494 0.79688088 0.80296864 0.79339239 0.82478881\n",
            " 0.83149219 0.86750573 0.89777352 0.8398372  0.84975546 0.86408564\n",
            " 0.89517425 0.89349841 0.89397722 0.88710284 0.91839666 0.94459455\n",
            " 0.92246657 0.9388146  0.90047539 0.92834912 0.93867779 0.93631793\n",
            " 0.93631793 0.9696296  0.9656623  0.99534868 1.         0.96306956\n",
            " 0.95692384 0.94031978 0.92033893 0.90155679 0.88646221 0.87600338\n",
            " 0.86997741 0.86735827 0.86663461 0.86614478 0.86437374 0.86017829\n",
            " 0.85292149 0.84250361 0.82930368 0.81404984]\n",
            "17 day output [[0.7976451]]\n",
            "18 day input [0.64171141 0.51940901 0.55583296 0.53466261 0.52819864 0.47505045\n",
            " 0.45839461 0.53538083 0.53072951 0.57491706 0.5383221  0.56250214\n",
            " 0.56072369 0.51496289 0.52871165 0.51667294 0.58870002 0.57830295\n",
            " 0.60101235 0.60757892 0.62556859 0.67276583 0.66380519 0.67153459\n",
            " 0.65823045 0.63815452 0.60887855 0.63531585 0.63165635 0.65881186\n",
            " 0.65949588 0.64379767 0.67509149 0.69585143 0.67967441 0.69366257\n",
            " 0.70871097 0.71921064 0.72984712 0.75170149 0.76839153 0.75607921\n",
            " 0.74321967 0.74968364 0.74342488 0.76822053 0.76199596 0.78282431\n",
            " 0.7746845  0.78166148 0.77427409 0.77899381 0.77947262 0.77841239\n",
            " 0.79178494 0.79688088 0.80296864 0.79339239 0.82478881 0.83149219\n",
            " 0.86750573 0.89777352 0.8398372  0.84975546 0.86408564 0.89517425\n",
            " 0.89349841 0.89397722 0.88710284 0.91839666 0.94459455 0.92246657\n",
            " 0.9388146  0.90047539 0.92834912 0.93867779 0.93631793 0.93631793\n",
            " 0.9696296  0.9656623  0.99534868 1.         0.96306956 0.95692384\n",
            " 0.94031978 0.92033893 0.90155679 0.88646221 0.87600338 0.86997741\n",
            " 0.86735827 0.86663461 0.86614478 0.86437374 0.86017829 0.85292149\n",
            " 0.84250361 0.82930368 0.81404984 0.79764509]\n",
            "18 day output [[0.78099215]]\n",
            "19 day input [0.51940901 0.55583296 0.53466261 0.52819864 0.47505045 0.45839461\n",
            " 0.53538083 0.53072951 0.57491706 0.5383221  0.56250214 0.56072369\n",
            " 0.51496289 0.52871165 0.51667294 0.58870002 0.57830295 0.60101235\n",
            " 0.60757892 0.62556859 0.67276583 0.66380519 0.67153459 0.65823045\n",
            " 0.63815452 0.60887855 0.63531585 0.63165635 0.65881186 0.65949588\n",
            " 0.64379767 0.67509149 0.69585143 0.67967441 0.69366257 0.70871097\n",
            " 0.71921064 0.72984712 0.75170149 0.76839153 0.75607921 0.74321967\n",
            " 0.74968364 0.74342488 0.76822053 0.76199596 0.78282431 0.7746845\n",
            " 0.78166148 0.77427409 0.77899381 0.77947262 0.77841239 0.79178494\n",
            " 0.79688088 0.80296864 0.79339239 0.82478881 0.83149219 0.86750573\n",
            " 0.89777352 0.8398372  0.84975546 0.86408564 0.89517425 0.89349841\n",
            " 0.89397722 0.88710284 0.91839666 0.94459455 0.92246657 0.9388146\n",
            " 0.90047539 0.92834912 0.93867779 0.93631793 0.93631793 0.9696296\n",
            " 0.9656623  0.99534868 1.         0.96306956 0.95692384 0.94031978\n",
            " 0.92033893 0.90155679 0.88646221 0.87600338 0.86997741 0.86735827\n",
            " 0.86663461 0.86614478 0.86437374 0.86017829 0.85292149 0.84250361\n",
            " 0.82930368 0.81404984 0.79764509 0.78099215]\n",
            "19 day output [[0.76483953]]\n",
            "20 day input [0.55583296 0.53466261 0.52819864 0.47505045 0.45839461 0.53538083\n",
            " 0.53072951 0.57491706 0.5383221  0.56250214 0.56072369 0.51496289\n",
            " 0.52871165 0.51667294 0.58870002 0.57830295 0.60101235 0.60757892\n",
            " 0.62556859 0.67276583 0.66380519 0.67153459 0.65823045 0.63815452\n",
            " 0.60887855 0.63531585 0.63165635 0.65881186 0.65949588 0.64379767\n",
            " 0.67509149 0.69585143 0.67967441 0.69366257 0.70871097 0.71921064\n",
            " 0.72984712 0.75170149 0.76839153 0.75607921 0.74321967 0.74968364\n",
            " 0.74342488 0.76822053 0.76199596 0.78282431 0.7746845  0.78166148\n",
            " 0.77427409 0.77899381 0.77947262 0.77841239 0.79178494 0.79688088\n",
            " 0.80296864 0.79339239 0.82478881 0.83149219 0.86750573 0.89777352\n",
            " 0.8398372  0.84975546 0.86408564 0.89517425 0.89349841 0.89397722\n",
            " 0.88710284 0.91839666 0.94459455 0.92246657 0.9388146  0.90047539\n",
            " 0.92834912 0.93867779 0.93631793 0.93631793 0.9696296  0.9656623\n",
            " 0.99534868 1.         0.96306956 0.95692384 0.94031978 0.92033893\n",
            " 0.90155679 0.88646221 0.87600338 0.86997741 0.86735827 0.86663461\n",
            " 0.86614478 0.86437374 0.86017829 0.85292149 0.84250361 0.82930368\n",
            " 0.81404984 0.79764509 0.78099215 0.76483953]\n",
            "20 day output [[0.74968207]]\n",
            "21 day input [0.53466261 0.52819864 0.47505045 0.45839461 0.53538083 0.53072951\n",
            " 0.57491706 0.5383221  0.56250214 0.56072369 0.51496289 0.52871165\n",
            " 0.51667294 0.58870002 0.57830295 0.60101235 0.60757892 0.62556859\n",
            " 0.67276583 0.66380519 0.67153459 0.65823045 0.63815452 0.60887855\n",
            " 0.63531585 0.63165635 0.65881186 0.65949588 0.64379767 0.67509149\n",
            " 0.69585143 0.67967441 0.69366257 0.70871097 0.71921064 0.72984712\n",
            " 0.75170149 0.76839153 0.75607921 0.74321967 0.74968364 0.74342488\n",
            " 0.76822053 0.76199596 0.78282431 0.7746845  0.78166148 0.77427409\n",
            " 0.77899381 0.77947262 0.77841239 0.79178494 0.79688088 0.80296864\n",
            " 0.79339239 0.82478881 0.83149219 0.86750573 0.89777352 0.8398372\n",
            " 0.84975546 0.86408564 0.89517425 0.89349841 0.89397722 0.88710284\n",
            " 0.91839666 0.94459455 0.92246657 0.9388146  0.90047539 0.92834912\n",
            " 0.93867779 0.93631793 0.93631793 0.9696296  0.9656623  0.99534868\n",
            " 1.         0.96306956 0.95692384 0.94031978 0.92033893 0.90155679\n",
            " 0.88646221 0.87600338 0.86997741 0.86735827 0.86663461 0.86614478\n",
            " 0.86437374 0.86017829 0.85292149 0.84250361 0.82930368 0.81404984\n",
            " 0.79764509 0.78099215 0.76483953 0.74968207]\n",
            "21 day output [[0.7357215]]\n",
            "22 day input [0.52819864 0.47505045 0.45839461 0.53538083 0.53072951 0.57491706\n",
            " 0.5383221  0.56250214 0.56072369 0.51496289 0.52871165 0.51667294\n",
            " 0.58870002 0.57830295 0.60101235 0.60757892 0.62556859 0.67276583\n",
            " 0.66380519 0.67153459 0.65823045 0.63815452 0.60887855 0.63531585\n",
            " 0.63165635 0.65881186 0.65949588 0.64379767 0.67509149 0.69585143\n",
            " 0.67967441 0.69366257 0.70871097 0.71921064 0.72984712 0.75170149\n",
            " 0.76839153 0.75607921 0.74321967 0.74968364 0.74342488 0.76822053\n",
            " 0.76199596 0.78282431 0.7746845  0.78166148 0.77427409 0.77899381\n",
            " 0.77947262 0.77841239 0.79178494 0.79688088 0.80296864 0.79339239\n",
            " 0.82478881 0.83149219 0.86750573 0.89777352 0.8398372  0.84975546\n",
            " 0.86408564 0.89517425 0.89349841 0.89397722 0.88710284 0.91839666\n",
            " 0.94459455 0.92246657 0.9388146  0.90047539 0.92834912 0.93867779\n",
            " 0.93631793 0.93631793 0.9696296  0.9656623  0.99534868 1.\n",
            " 0.96306956 0.95692384 0.94031978 0.92033893 0.90155679 0.88646221\n",
            " 0.87600338 0.86997741 0.86735827 0.86663461 0.86614478 0.86437374\n",
            " 0.86017829 0.85292149 0.84250361 0.82930368 0.81404984 0.79764509\n",
            " 0.78099215 0.76483953 0.74968207 0.73572153]\n",
            "22 day output [[0.7228843]]\n",
            "23 day input [0.47505045 0.45839461 0.53538083 0.53072951 0.57491706 0.5383221\n",
            " 0.56250214 0.56072369 0.51496289 0.52871165 0.51667294 0.58870002\n",
            " 0.57830295 0.60101235 0.60757892 0.62556859 0.67276583 0.66380519\n",
            " 0.67153459 0.65823045 0.63815452 0.60887855 0.63531585 0.63165635\n",
            " 0.65881186 0.65949588 0.64379767 0.67509149 0.69585143 0.67967441\n",
            " 0.69366257 0.70871097 0.71921064 0.72984712 0.75170149 0.76839153\n",
            " 0.75607921 0.74321967 0.74968364 0.74342488 0.76822053 0.76199596\n",
            " 0.78282431 0.7746845  0.78166148 0.77427409 0.77899381 0.77947262\n",
            " 0.77841239 0.79178494 0.79688088 0.80296864 0.79339239 0.82478881\n",
            " 0.83149219 0.86750573 0.89777352 0.8398372  0.84975546 0.86408564\n",
            " 0.89517425 0.89349841 0.89397722 0.88710284 0.91839666 0.94459455\n",
            " 0.92246657 0.9388146  0.90047539 0.92834912 0.93867779 0.93631793\n",
            " 0.93631793 0.9696296  0.9656623  0.99534868 1.         0.96306956\n",
            " 0.95692384 0.94031978 0.92033893 0.90155679 0.88646221 0.87600338\n",
            " 0.86997741 0.86735827 0.86663461 0.86614478 0.86437374 0.86017829\n",
            " 0.85292149 0.84250361 0.82930368 0.81404984 0.79764509 0.78099215\n",
            " 0.76483953 0.74968207 0.73572153 0.7228843 ]\n",
            "23 day output [[0.7108818]]\n",
            "24 day input [0.45839461 0.53538083 0.53072951 0.57491706 0.5383221  0.56250214\n",
            " 0.56072369 0.51496289 0.52871165 0.51667294 0.58870002 0.57830295\n",
            " 0.60101235 0.60757892 0.62556859 0.67276583 0.66380519 0.67153459\n",
            " 0.65823045 0.63815452 0.60887855 0.63531585 0.63165635 0.65881186\n",
            " 0.65949588 0.64379767 0.67509149 0.69585143 0.67967441 0.69366257\n",
            " 0.70871097 0.71921064 0.72984712 0.75170149 0.76839153 0.75607921\n",
            " 0.74321967 0.74968364 0.74342488 0.76822053 0.76199596 0.78282431\n",
            " 0.7746845  0.78166148 0.77427409 0.77899381 0.77947262 0.77841239\n",
            " 0.79178494 0.79688088 0.80296864 0.79339239 0.82478881 0.83149219\n",
            " 0.86750573 0.89777352 0.8398372  0.84975546 0.86408564 0.89517425\n",
            " 0.89349841 0.89397722 0.88710284 0.91839666 0.94459455 0.92246657\n",
            " 0.9388146  0.90047539 0.92834912 0.93867779 0.93631793 0.93631793\n",
            " 0.9696296  0.9656623  0.99534868 1.         0.96306956 0.95692384\n",
            " 0.94031978 0.92033893 0.90155679 0.88646221 0.87600338 0.86997741\n",
            " 0.86735827 0.86663461 0.86614478 0.86437374 0.86017829 0.85292149\n",
            " 0.84250361 0.82930368 0.81404984 0.79764509 0.78099215 0.76483953\n",
            " 0.74968207 0.73572153 0.7228843  0.71088183]\n",
            "24 day output [[0.6992946]]\n",
            "25 day input [0.53538083 0.53072951 0.57491706 0.5383221  0.56250214 0.56072369\n",
            " 0.51496289 0.52871165 0.51667294 0.58870002 0.57830295 0.60101235\n",
            " 0.60757892 0.62556859 0.67276583 0.66380519 0.67153459 0.65823045\n",
            " 0.63815452 0.60887855 0.63531585 0.63165635 0.65881186 0.65949588\n",
            " 0.64379767 0.67509149 0.69585143 0.67967441 0.69366257 0.70871097\n",
            " 0.71921064 0.72984712 0.75170149 0.76839153 0.75607921 0.74321967\n",
            " 0.74968364 0.74342488 0.76822053 0.76199596 0.78282431 0.7746845\n",
            " 0.78166148 0.77427409 0.77899381 0.77947262 0.77841239 0.79178494\n",
            " 0.79688088 0.80296864 0.79339239 0.82478881 0.83149219 0.86750573\n",
            " 0.89777352 0.8398372  0.84975546 0.86408564 0.89517425 0.89349841\n",
            " 0.89397722 0.88710284 0.91839666 0.94459455 0.92246657 0.9388146\n",
            " 0.90047539 0.92834912 0.93867779 0.93631793 0.93631793 0.9696296\n",
            " 0.9656623  0.99534868 1.         0.96306956 0.95692384 0.94031978\n",
            " 0.92033893 0.90155679 0.88646221 0.87600338 0.86997741 0.86735827\n",
            " 0.86663461 0.86614478 0.86437374 0.86017829 0.85292149 0.84250361\n",
            " 0.82930368 0.81404984 0.79764509 0.78099215 0.76483953 0.74968207\n",
            " 0.73572153 0.7228843  0.71088183 0.69929463]\n",
            "25 day output [[0.68765986]]\n",
            "26 day input [0.53072951 0.57491706 0.5383221  0.56250214 0.56072369 0.51496289\n",
            " 0.52871165 0.51667294 0.58870002 0.57830295 0.60101235 0.60757892\n",
            " 0.62556859 0.67276583 0.66380519 0.67153459 0.65823045 0.63815452\n",
            " 0.60887855 0.63531585 0.63165635 0.65881186 0.65949588 0.64379767\n",
            " 0.67509149 0.69585143 0.67967441 0.69366257 0.70871097 0.71921064\n",
            " 0.72984712 0.75170149 0.76839153 0.75607921 0.74321967 0.74968364\n",
            " 0.74342488 0.76822053 0.76199596 0.78282431 0.7746845  0.78166148\n",
            " 0.77427409 0.77899381 0.77947262 0.77841239 0.79178494 0.79688088\n",
            " 0.80296864 0.79339239 0.82478881 0.83149219 0.86750573 0.89777352\n",
            " 0.8398372  0.84975546 0.86408564 0.89517425 0.89349841 0.89397722\n",
            " 0.88710284 0.91839666 0.94459455 0.92246657 0.9388146  0.90047539\n",
            " 0.92834912 0.93867779 0.93631793 0.93631793 0.9696296  0.9656623\n",
            " 0.99534868 1.         0.96306956 0.95692384 0.94031978 0.92033893\n",
            " 0.90155679 0.88646221 0.87600338 0.86997741 0.86735827 0.86663461\n",
            " 0.86614478 0.86437374 0.86017829 0.85292149 0.84250361 0.82930368\n",
            " 0.81404984 0.79764509 0.78099215 0.76483953 0.74968207 0.73572153\n",
            " 0.7228843  0.71088183 0.69929463 0.68765986]\n",
            "26 day output [[0.67554957]]\n",
            "27 day input [0.57491706 0.5383221  0.56250214 0.56072369 0.51496289 0.52871165\n",
            " 0.51667294 0.58870002 0.57830295 0.60101235 0.60757892 0.62556859\n",
            " 0.67276583 0.66380519 0.67153459 0.65823045 0.63815452 0.60887855\n",
            " 0.63531585 0.63165635 0.65881186 0.65949588 0.64379767 0.67509149\n",
            " 0.69585143 0.67967441 0.69366257 0.70871097 0.71921064 0.72984712\n",
            " 0.75170149 0.76839153 0.75607921 0.74321967 0.74968364 0.74342488\n",
            " 0.76822053 0.76199596 0.78282431 0.7746845  0.78166148 0.77427409\n",
            " 0.77899381 0.77947262 0.77841239 0.79178494 0.79688088 0.80296864\n",
            " 0.79339239 0.82478881 0.83149219 0.86750573 0.89777352 0.8398372\n",
            " 0.84975546 0.86408564 0.89517425 0.89349841 0.89397722 0.88710284\n",
            " 0.91839666 0.94459455 0.92246657 0.9388146  0.90047539 0.92834912\n",
            " 0.93867779 0.93631793 0.93631793 0.9696296  0.9656623  0.99534868\n",
            " 1.         0.96306956 0.95692384 0.94031978 0.92033893 0.90155679\n",
            " 0.88646221 0.87600338 0.86997741 0.86735827 0.86663461 0.86614478\n",
            " 0.86437374 0.86017829 0.85292149 0.84250361 0.82930368 0.81404984\n",
            " 0.79764509 0.78099215 0.76483953 0.74968207 0.73572153 0.7228843\n",
            " 0.71088183 0.69929463 0.68765986 0.67554957]\n",
            "27 day output [[0.66262794]]\n",
            "28 day input [0.5383221  0.56250214 0.56072369 0.51496289 0.52871165 0.51667294\n",
            " 0.58870002 0.57830295 0.60101235 0.60757892 0.62556859 0.67276583\n",
            " 0.66380519 0.67153459 0.65823045 0.63815452 0.60887855 0.63531585\n",
            " 0.63165635 0.65881186 0.65949588 0.64379767 0.67509149 0.69585143\n",
            " 0.67967441 0.69366257 0.70871097 0.71921064 0.72984712 0.75170149\n",
            " 0.76839153 0.75607921 0.74321967 0.74968364 0.74342488 0.76822053\n",
            " 0.76199596 0.78282431 0.7746845  0.78166148 0.77427409 0.77899381\n",
            " 0.77947262 0.77841239 0.79178494 0.79688088 0.80296864 0.79339239\n",
            " 0.82478881 0.83149219 0.86750573 0.89777352 0.8398372  0.84975546\n",
            " 0.86408564 0.89517425 0.89349841 0.89397722 0.88710284 0.91839666\n",
            " 0.94459455 0.92246657 0.9388146  0.90047539 0.92834912 0.93867779\n",
            " 0.93631793 0.93631793 0.9696296  0.9656623  0.99534868 1.\n",
            " 0.96306956 0.95692384 0.94031978 0.92033893 0.90155679 0.88646221\n",
            " 0.87600338 0.86997741 0.86735827 0.86663461 0.86614478 0.86437374\n",
            " 0.86017829 0.85292149 0.84250361 0.82930368 0.81404984 0.79764509\n",
            " 0.78099215 0.76483953 0.74968207 0.73572153 0.7228843  0.71088183\n",
            " 0.69929463 0.68765986 0.67554957 0.66262794]\n",
            "28 day output [[0.64868706]]\n",
            "29 day input [0.56250214 0.56072369 0.51496289 0.52871165 0.51667294 0.58870002\n",
            " 0.57830295 0.60101235 0.60757892 0.62556859 0.67276583 0.66380519\n",
            " 0.67153459 0.65823045 0.63815452 0.60887855 0.63531585 0.63165635\n",
            " 0.65881186 0.65949588 0.64379767 0.67509149 0.69585143 0.67967441\n",
            " 0.69366257 0.70871097 0.71921064 0.72984712 0.75170149 0.76839153\n",
            " 0.75607921 0.74321967 0.74968364 0.74342488 0.76822053 0.76199596\n",
            " 0.78282431 0.7746845  0.78166148 0.77427409 0.77899381 0.77947262\n",
            " 0.77841239 0.79178494 0.79688088 0.80296864 0.79339239 0.82478881\n",
            " 0.83149219 0.86750573 0.89777352 0.8398372  0.84975546 0.86408564\n",
            " 0.89517425 0.89349841 0.89397722 0.88710284 0.91839666 0.94459455\n",
            " 0.92246657 0.9388146  0.90047539 0.92834912 0.93867779 0.93631793\n",
            " 0.93631793 0.9696296  0.9656623  0.99534868 1.         0.96306956\n",
            " 0.95692384 0.94031978 0.92033893 0.90155679 0.88646221 0.87600338\n",
            " 0.86997741 0.86735827 0.86663461 0.86614478 0.86437374 0.86017829\n",
            " 0.85292149 0.84250361 0.82930368 0.81404984 0.79764509 0.78099215\n",
            " 0.76483953 0.74968207 0.73572153 0.7228843  0.71088183 0.69929463\n",
            " 0.68765986 0.67554957 0.66262794 0.64868706]\n",
            "29 day output [[0.63365537]]\n",
            "[[0.9630695581436157], [0.9569238424301147], [0.9403197765350342], [0.9203389286994934], [0.9015567898750305], [0.8864622116088867], [0.8760033845901489], [0.8699774146080017], [0.8673582673072815], [0.8666346073150635], [0.8661447763442993], [0.8643737435340881], [0.8601782917976379], [0.8529214859008789], [0.8425036072731018], [0.8293036818504333], [0.8140498399734497], [0.797645092010498], [0.7809921503067017], [0.7648395299911499], [0.7496820688247681], [0.7357215285301208], [0.7228842973709106], [0.7108818292617798], [0.6992946267127991], [0.6876598596572876], [0.6755495667457581], [0.6626279354095459], [0.6486870646476746], [0.6336553692817688]]\n"
          ],
          "name": "stdout"
        }
      ]
    },
    {
      "cell_type": "code",
      "metadata": {
        "id": "SxxWrHfkTqfU",
        "colab_type": "code",
        "colab": {}
      },
      "source": [
        "day_new=np.arange(1,101)\n",
        "day_pred=np.arange(101,131)"
      ],
      "execution_count": 67,
      "outputs": []
    },
    {
      "cell_type": "code",
      "metadata": {
        "id": "gzqYkr8AT5EH",
        "colab_type": "code",
        "colab": {
          "base_uri": "https://localhost:8080/",
          "height": 34
        },
        "outputId": "0a4aa337-1bf7-4af5-8384-a4bdd307e1bd"
      },
      "source": [
        "len(df1)"
      ],
      "execution_count": 68,
      "outputs": [
        {
          "output_type": "execute_result",
          "data": {
            "text/plain": [
              "1258"
            ]
          },
          "metadata": {
            "tags": []
          },
          "execution_count": 68
        }
      ]
    },
    {
      "cell_type": "code",
      "metadata": {
        "id": "Uc5BiTmRT71w",
        "colab_type": "code",
        "colab": {
          "base_uri": "https://localhost:8080/",
          "height": 282
        },
        "outputId": "e05edfae-90ae-4c19-b6c9-7dbd56f7b2dd"
      },
      "source": [
        "plt.plot(day_new,scaler.inverse_transform(df1[1158:]))\n",
        "plt.plot(day_pred,scaler.inverse_transform(lst_output))"
      ],
      "execution_count": 69,
      "outputs": [
        {
          "output_type": "execute_result",
          "data": {
            "text/plain": [
              "[<matplotlib.lines.Line2D at 0x7ff0f1f92ba8>]"
            ]
          },
          "metadata": {
            "tags": []
          },
          "execution_count": 69
        },
        {
          "output_type": "display_data",
          "data": {
            "image/png": "[encoded data removed]",
            "text/plain": [
              "<Figure size 432x288 with 1 Axes>"
            ]
          },
          "metadata": {
            "tags": [],
            "needs_background": "light"
          }
        }
      ]
    },
    {
      "cell_type": "code",
      "metadata": {
        "id": "k7yg65s-T_0Y",
        "colab_type": "code",
        "colab": {
          "base_uri": "https://localhost:8080/",
          "height": 282
        },
        "outputId": "d7463a08-25df-45f9-ce1a-34e6a4b8a266"
      },
      "source": [
        "df3=df1.tolist()\n",
        "df3.extend(lst_output)\n",
        "plt.plot(df3[1200:])"
      ],
      "execution_count": 70,
      "outputs": [
        {
          "output_type": "execute_result",
          "data": {
            "text/plain": [
              "[<matplotlib.lines.Line2D at 0x7ff0f1eaccc0>]"
            ]
          },
          "metadata": {
            "tags": []
          },
          "execution_count": 70
        },
        {
          "output_type": "display_data",
          "data": {
            "image/png": "[encoded data removed]",
            "text/plain": [
              "<Figure size 432x288 with 1 Axes>"
            ]
          },
          "metadata": {
            "tags": [],
            "needs_background": "light"
          }
        }
      ]
    },
    {
      "cell_type": "code",
      "metadata": {
        "id": "6V9_bIItUEaz",
        "colab_type": "code",
        "colab": {
          "base_uri": "https://localhost:8080/",
          "height": 282
        },
        "outputId": "d06c9700-5cbd-44df-cb92-d66ba883496c"
      },
      "source": [
        "df3=scaler.inverse_transform(df3).tolist()\n",
        "plt.plot(df3)"
      ],
      "execution_count": 71,
      "outputs": [
        {
          "output_type": "execute_result",
          "data": {
            "text/plain": [
              "[<matplotlib.lines.Line2D at 0x7ff0f1d7d668>]"
            ]
          },
          "metadata": {
            "tags": []
          },
          "execution_count": 71
        },
        {
          "output_type": "display_data",
          "data": {
            "image/png": "[encoded data removed]",
            "text/plain": [
              "<Figure size 432x288 with 1 Axes>"
            ]
          },
          "metadata": {
            "tags": [],
            "needs_background": "light"
          }
        }
      ]
    },
    {
      "cell_type": "code",
      "metadata": {
        "id": "ni8TuMxGULY1",
        "colab_type": "code",
        "colab": {}
      },
      "source": [
        ""
      ],
      "execution_count": null,
      "outputs": []
    }
  ]
}